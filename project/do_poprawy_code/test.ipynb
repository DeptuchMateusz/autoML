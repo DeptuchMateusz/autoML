{
 "cells": [
  {
   "cell_type": "code",
   "execution_count": 68,
   "id": "f4ae4d4a28fe4403",
   "metadata": {
    "ExecuteTime": {
     "end_time": "2025-01-05T01:33:07.117685Z",
     "start_time": "2025-01-05T01:33:07.106404Z"
    }
   },
   "outputs": [],
   "source": [
    "from medaid import medaid\n",
    "import pandas as pd\n",
    "from sklearn.model_selection import train_test_split\n"
   ]
  },
  {
   "cell_type": "code",
   "execution_count": 69,
   "id": "823a3d0828e99881",
   "metadata": {
    "ExecuteTime": {
     "end_time": "2025-01-05T01:33:09.267149Z",
     "start_time": "2025-01-05T01:33:09.198375Z"
    }
   },
   "outputs": [],
   "source": [
    "data = pd.read_csv('../data/binary/cardio_train.csv', sep=';')\n",
    "X = data.drop(columns=['cardio', 'id'])\n",
    "y = data['cardio']\n",
    "X, X_test, y, y_test = train_test_split(X, y, test_size=0.2, random_state=42)"
   ]
  },
  {
   "cell_type": "code",
   "execution_count": 70,
   "id": "2f2df43c",
   "metadata": {
    "ExecuteTime": {
     "end_time": "2025-01-05T01:33:10.766567Z",
     "start_time": "2025-01-05T01:33:10.761963Z"
    }
   },
   "outputs": [],
   "source": [
    "aid = medaid(X, y, mode=\"perform\", metric=\"recall\", search=\"random\", path=\"../\", n_iter=10)\n"
   ]
  },
  {
   "cell_type": "code",
   "execution_count": 71,
   "id": "9a3f5b5a2d75fc0f",
   "metadata": {
    "ExecuteTime": {
     "end_time": "2025-01-05T01:38:21.298931Z",
     "start_time": "2025-01-05T01:33:13.002464Z"
    }
   },
   "outputs": [
    {
     "name": "stderr",
     "output_type": "stream",
     "text": [
      "logistic progress: 100%|██████████| 10/10 [00:47<00:00,  4.72s/it]\n",
      "tree progress: 100%|██████████| 10/10 [00:04<00:00,  2.23it/s]\n",
      "random_forest progress: 100%|██████████| 10/10 [04:38<00:00, 27.86s/it]\n",
      "xgboost progress: 100%|██████████| 10/10 [00:26<00:00,  2.60s/it]\n",
      "lightgbm progress: 100%|██████████| 10/10 [00:03<00:00,  2.67it/s]\n"
     ]
    },
    {
     "data": {
      "text/plain": [
       "<Figure size 640x480 with 0 Axes>"
      ]
     },
     "metadata": {},
     "output_type": "display_data"
    }
   ],
   "source": [
    "aid.train()"
   ]
  },
  {
   "cell_type": "code",
   "execution_count": 33,
   "id": "60b95df3c88ff243",
   "metadata": {
    "ExecuteTime": {
     "end_time": "2025-01-05T01:38:27.166687Z",
     "start_time": "2025-01-05T01:38:27.155576Z"
    }
   },
   "outputs": [
    {
     "name": "stdout",
     "output_type": "stream",
     "text": [
      "           model  best_score        f1  accuracy  precision    recall\n",
      "3        xgboost    0.715665  0.726501  0.730911   0.737731  0.715665\n",
      "2  random_forest    0.692244  0.722360  0.734250   0.755216  0.692244\n",
      "1           tree    0.681124  0.715756  0.729911   0.754413  0.681124\n",
      "0       logistic    0.676690  0.706595  0.719357   0.739362  0.676690\n",
      "4       lightgbm    0.655093  0.705786  0.727250   0.764996  0.655093\n"
     ]
    }
   ],
   "source": [
    "print(aid.models_ranking())"
   ]
  },
  {
   "cell_type": "code",
   "execution_count": 7,
   "id": "57859bcb",
   "metadata": {
    "ExecuteTime": {
     "end_time": "2025-01-05T01:38:36.234435Z",
     "start_time": "2025-01-05T01:38:36.181986Z"
    }
   },
   "outputs": [],
   "source": [
    "y_hat = aid.predict(X_test)"
   ]
  },
  {
   "cell_type": "code",
   "execution_count": 8,
   "id": "2ce3ae00",
   "metadata": {
    "ExecuteTime": {
     "end_time": "2025-01-05T01:38:36.894849Z",
     "start_time": "2025-01-05T01:38:36.887027Z"
    }
   },
   "outputs": [
    {
     "data": {
      "text/plain": [
       "0.7367142857142858"
      ]
     },
     "execution_count": 8,
     "metadata": {},
     "output_type": "execute_result"
    }
   ],
   "source": [
    "from sklearn.metrics import accuracy_score\n",
    "accuracy_score(y_test, y_hat)"
   ]
  },
  {
   "cell_type": "code",
   "execution_count": 10,
   "id": "7af83ea256810e2a",
   "metadata": {
    "ExecuteTime": {
     "end_time": "2025-01-05T01:11:27.740063Z",
     "start_time": "2025-01-05T01:11:27.651885Z"
    }
   },
   "outputs": [],
   "source": [
    "git <3"
   ]
  },
  {
   "cell_type": "code",
   "execution_count": null,
   "id": "56cff89d06599eea",
   "metadata": {},
   "outputs": [],
   "source": []
  }
 ],
 "metadata": {
  "kernelspec": {
   "display_name": "bhl",
   "language": "python",
   "name": "python3"
  },
  "language_info": {
   "codemirror_mode": {
    "name": "ipython",
    "version": 3
   },
   "file_extension": ".py",
   "mimetype": "text/x-python",
   "name": "python",
   "nbconvert_exporter": "python",
   "pygments_lexer": "ipython3",
   "version": "3.11.10"
  }
 },
 "nbformat": 5,
 "nbformat_minor": 9
}
