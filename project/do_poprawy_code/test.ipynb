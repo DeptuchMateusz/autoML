{
 "cells": [
  {
   "cell_type": "code",
   "execution_count": 1,
   "id": "f4ae4d4a28fe4403",
   "metadata": {
    "ExecuteTime": {
     "end_time": "2025-01-05T18:24:32.176639Z",
     "start_time": "2025-01-05T18:24:32.170976Z"
    }
   },
   "outputs": [],
   "source": [
    "from medaid import medaid\n",
    "import pandas as pd\n",
    "from sklearn.model_selection import train_test_split\n"
   ]
  },
  {
   "cell_type": "code",
   "execution_count": 2,
   "id": "2f2df43c",
   "metadata": {
    "ExecuteTime": {
     "end_time": "2025-01-05T18:24:37.581479Z",
     "start_time": "2025-01-05T18:24:37.576428Z"
    }
   },
   "outputs": [],
   "source": [
    "aid = medaid(dataset_path='../../data/binary/cardio_train.csv', target_column='cardio', mode=\"perform\", metric=\"recall\", search=\"random\", path=\"\", n_iter=2)\n"
   ]
  },
  {
   "cell_type": "code",
   "execution_count": null,
   "id": "9a3f5b5a2d75fc0f",
   "metadata": {
    "ExecuteTime": {
     "end_time": "2025-01-05T18:22:28.130525Z",
     "start_time": "2025-01-05T18:22:25.095136Z"
    }
   },
   "outputs": [],
   "source": [
    "aid.train()"
   ]
  },
  {
   "cell_type": "code",
   "execution_count": 40,
   "id": "60b95df3c88ff243",
   "metadata": {
    "ExecuteTime": {
     "end_time": "2025-01-05T18:24:40.893327Z",
     "start_time": "2025-01-05T18:24:40.888455Z"
    }
   },
   "outputs": [
    {
     "name": "stdout",
     "output_type": "stream",
     "text": [
      "None\n"
     ]
    }
   ],
   "source": [
    "print(aid.models_ranking())"
   ]
  },
  {
   "cell_type": "code",
   "execution_count": 41,
   "id": "19ad61e81c23ac0d",
   "metadata": {
    "ExecuteTime": {
     "end_time": "2025-01-05T18:24:43.032027Z",
     "start_time": "2025-01-05T18:24:43.026703Z"
    }
   },
   "outputs": [],
   "source": [
    "aid.report()"
   ]
  },
  {
   "cell_type": "code",
   "execution_count": 15,
   "id": "57859bcb",
   "metadata": {
    "ExecuteTime": {
     "end_time": "2025-01-05T17:10:23.539357Z",
     "start_time": "2025-01-05T17:10:23.508353Z"
    }
   },
   "outputs": [
    {
     "ename": "ValueError",
     "evalue": "You need to train the model first",
     "output_type": "error",
     "traceback": [
      "\u001b[1;31m---------------------------------------------------------------------------\u001b[0m",
      "\u001b[1;31mValueError\u001b[0m                                Traceback (most recent call last)",
      "Cell \u001b[1;32mIn[15], line 1\u001b[0m\n\u001b[1;32m----> 1\u001b[0m y_hat \u001b[38;5;241m=\u001b[39m \u001b[43maid\u001b[49m\u001b[38;5;241;43m.\u001b[39;49m\u001b[43mpredict\u001b[49m\u001b[43m(\u001b[49m\u001b[43mX_test\u001b[49m\u001b[43m)\u001b[49m\n",
      "File \u001b[1;32m~\\Desktop\\autoML\\project\\do_poprawy_code\\medaid.py:105\u001b[0m, in \u001b[0;36mmedaid.predict\u001b[1;34m(self, X)\u001b[0m\n\u001b[0;32m    103\u001b[0m \u001b[38;5;28;01mdef\u001b[39;00m \u001b[38;5;21mpredict\u001b[39m(\u001b[38;5;28mself\u001b[39m, X):\n\u001b[0;32m    104\u001b[0m     \u001b[38;5;28;01mif\u001b[39;00m \u001b[38;5;28mself\u001b[39m\u001b[38;5;241m.\u001b[39mbest_models \u001b[38;5;129;01mis\u001b[39;00m \u001b[38;5;28;01mNone\u001b[39;00m:\n\u001b[1;32m--> 105\u001b[0m         \u001b[38;5;28;01mraise\u001b[39;00m \u001b[38;5;167;01mValueError\u001b[39;00m(\u001b[38;5;124m\"\u001b[39m\u001b[38;5;124mYou need to train the model first\u001b[39m\u001b[38;5;124m\"\u001b[39m)\n\u001b[0;32m    106\u001b[0m     \u001b[38;5;28;01mif\u001b[39;00m \u001b[38;5;28mtype\u001b[39m(X) \u001b[38;5;129;01mis\u001b[39;00m \u001b[38;5;129;01mnot\u001b[39;00m pd\u001b[38;5;241m.\u001b[39mDataFrame:\n\u001b[0;32m    107\u001b[0m         \u001b[38;5;28;01mraise\u001b[39;00m \u001b[38;5;167;01mValueError\u001b[39;00m(\u001b[38;5;124m\"\u001b[39m\u001b[38;5;124mX must be a pandas DataFrame\u001b[39m\u001b[38;5;124m\"\u001b[39m)\n",
      "\u001b[1;31mValueError\u001b[0m: You need to train the model first"
     ]
    }
   ],
   "source": [
    "y_hat = aid.predict(X_test)"
   ]
  },
  {
   "cell_type": "code",
   "execution_count": 8,
   "id": "2ce3ae00",
   "metadata": {
    "ExecuteTime": {
     "end_time": "2025-01-05T01:38:36.894849Z",
     "start_time": "2025-01-05T01:38:36.887027Z"
    }
   },
   "outputs": [
    {
     "data": {
      "text/plain": [
       "0.7367142857142858"
      ]
     },
     "execution_count": 8,
     "metadata": {},
     "output_type": "execute_result"
    }
   ],
   "source": [
    "from sklearn.metrics import accuracy_score\n",
    "accuracy_score(y_test, y_hat)"
   ]
  },
  {
   "cell_type": "code",
   "execution_count": 10,
   "id": "7af83ea256810e2a",
   "metadata": {
    "ExecuteTime": {
     "end_time": "2025-01-05T01:11:27.740063Z",
     "start_time": "2025-01-05T01:11:27.651885Z"
    }
   },
   "outputs": [],
   "source": [
    "git <3"
   ]
  },
  {
   "cell_type": "code",
   "execution_count": null,
   "id": "56cff89d06599eea",
   "metadata": {},
   "outputs": [],
   "source": []
  }
 ],
 "metadata": {
  "kernelspec": {
   "display_name": "env_p11",
   "language": "python",
   "name": "python3"
  },
  "language_info": {
   "codemirror_mode": {
    "name": "ipython",
    "version": 3
   },
   "file_extension": ".py",
   "mimetype": "text/x-python",
   "name": "python",
   "nbconvert_exporter": "python",
   "pygments_lexer": "ipython3",
   "version": "3.11.10"
  }
 },
 "nbformat": 5,
 "nbformat_minor": 9
}
