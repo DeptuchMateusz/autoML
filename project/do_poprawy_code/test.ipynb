{
 "cells": [
  {
   "cell_type": "code",
   "id": "f4ae4d4a28fe4403",
   "metadata": {
    "ExecuteTime": {
     "end_time": "2025-01-05T16:31:58.549049Z",
     "start_time": "2025-01-05T16:31:58.530019Z"
    }
   },
   "source": [
    "from medaid import medaid\n",
    "import pandas as pd\n",
    "from sklearn.model_selection import train_test_split\n"
   ],
   "outputs": [],
   "execution_count": 34
  },
  {
   "cell_type": "code",
   "id": "823a3d0828e99881",
   "metadata": {
    "ExecuteTime": {
     "end_time": "2025-01-05T16:31:59.981572Z",
     "start_time": "2025-01-05T16:31:59.868078Z"
    }
   },
   "source": [
    "data = pd.read_csv('../../data/binary/cardio_train.csv', sep=';')\n",
    "X = data.drop(columns=['cardio', 'id'])\n",
    "y = data['cardio']\n",
    "X, X_test, y, y_test = train_test_split(X, y, test_size=0.2, random_state=42)"
   ],
   "outputs": [],
   "execution_count": 35
  },
  {
   "cell_type": "code",
   "id": "2f2df43c",
   "metadata": {
    "ExecuteTime": {
     "end_time": "2025-01-05T16:48:21.797057Z",
     "start_time": "2025-01-05T16:48:21.317057Z"
    }
   },
   "source": "aid = medaid(X, y, mode=\"perform\", metric=\"recall\", search=\"random\", path=\"../\", n_iter=2)\n",
   "outputs": [],
   "execution_count": 41
  },
  {
   "cell_type": "code",
   "id": "9a3f5b5a2d75fc0f",
   "metadata": {
    "ExecuteTime": {
     "end_time": "2025-01-05T16:39:37.612880Z",
     "start_time": "2025-01-05T16:32:03.795579Z"
    }
   },
   "source": [
    "aid.train()"
   ],
   "outputs": [
    {
     "name": "stderr",
     "output_type": "stream",
     "text": [
      "logistic progress: 100%|██████████| 2/2 [00:02<00:00,  1.03s/it]\n",
      "tree progress: 100%|██████████| 2/2 [00:00<00:00,  2.17it/s]\n",
      "random_forest progress: 100%|██████████| 2/2 [00:47<00:00, 23.97s/it]\n",
      "xgboost progress: 100%|██████████| 2/2 [00:04<00:00,  2.25s/it]\n",
      "lightgbm progress: 100%|██████████| 2/2 [00:00<00:00,  2.69it/s]\n"
     ]
    },
    {
     "data": {
      "text/plain": [
       "<Figure size 640x480 with 0 Axes>"
      ]
     },
     "metadata": {},
     "output_type": "display_data"
    }
   ],
   "execution_count": 37
  },
  {
   "cell_type": "code",
   "id": "60b95df3c88ff243",
   "metadata": {
    "ExecuteTime": {
     "end_time": "2025-01-05T16:48:29.576803Z",
     "start_time": "2025-01-05T16:48:29.564650Z"
    }
   },
   "source": [
    "print(aid.models_ranking())"
   ],
   "outputs": [
    {
     "name": "stdout",
     "output_type": "stream",
     "text": [
      "None\n"
     ]
    }
   ],
   "execution_count": 42
  },
  {
   "metadata": {
    "ExecuteTime": {
     "end_time": "2025-01-05T16:48:34.651564Z",
     "start_time": "2025-01-05T16:48:34.634922Z"
    }
   },
   "cell_type": "code",
   "source": "aid.report()",
   "id": "19ad61e81c23ac0d",
   "outputs": [
    {
     "name": "stdout",
     "output_type": "stream",
     "text": [
      "Generating report...\n",
      "Best models: None\n",
      "Best models scores: None\n",
      "Best metrics: None\n"
     ]
    }
   ],
   "execution_count": 44
  },
  {
   "cell_type": "code",
   "execution_count": 7,
   "id": "57859bcb",
   "metadata": {
    "ExecuteTime": {
     "end_time": "2025-01-05T01:38:36.234435Z",
     "start_time": "2025-01-05T01:38:36.181986Z"
    }
   },
   "outputs": [],
   "source": [
    "y_hat = aid.predict(X_test)"
   ]
  },
  {
   "cell_type": "code",
   "execution_count": 8,
   "id": "2ce3ae00",
   "metadata": {
    "ExecuteTime": {
     "end_time": "2025-01-05T01:38:36.894849Z",
     "start_time": "2025-01-05T01:38:36.887027Z"
    }
   },
   "outputs": [
    {
     "data": {
      "text/plain": [
       "0.7367142857142858"
      ]
     },
     "execution_count": 8,
     "metadata": {},
     "output_type": "execute_result"
    }
   ],
   "source": [
    "from sklearn.metrics import accuracy_score\n",
    "accuracy_score(y_test, y_hat)"
   ]
  },
  {
   "cell_type": "code",
   "execution_count": 10,
   "id": "7af83ea256810e2a",
   "metadata": {
    "ExecuteTime": {
     "end_time": "2025-01-05T01:11:27.740063Z",
     "start_time": "2025-01-05T01:11:27.651885Z"
    }
   },
   "outputs": [],
   "source": [
    "git <3"
   ]
  },
  {
   "cell_type": "code",
   "execution_count": null,
   "id": "56cff89d06599eea",
   "metadata": {},
   "outputs": [],
   "source": []
  }
 ],
 "metadata": {
  "kernelspec": {
   "display_name": "bhl",
   "language": "python",
   "name": "python3"
  },
  "language_info": {
   "codemirror_mode": {
    "name": "ipython",
    "version": 3
   },
   "file_extension": ".py",
   "mimetype": "text/x-python",
   "name": "python",
   "nbconvert_exporter": "python",
   "pygments_lexer": "ipython3",
   "version": "3.11.10"
  }
 },
 "nbformat": 5,
 "nbformat_minor": 9
}
