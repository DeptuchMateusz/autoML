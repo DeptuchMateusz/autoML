{
 "cells": [
  {
   "cell_type": "code",
   "id": "f4ae4d4a28fe4403",
   "metadata": {
    "ExecuteTime": {
     "end_time": "2025-01-05T01:33:07.117685Z",
     "start_time": "2025-01-05T01:33:07.106404Z"
    }
   },
   "source": [
    "from medaid import medaid\n",
    "import pandas as pd\n",
    "from sklearn.model_selection import train_test_split\n"
   ],
   "outputs": [],
   "execution_count": 11
  },
  {
   "cell_type": "code",
   "id": "823a3d0828e99881",
   "metadata": {
    "ExecuteTime": {
     "end_time": "2025-01-05T01:33:09.267149Z",
     "start_time": "2025-01-05T01:33:09.198375Z"
    }
   },
   "source": [
    "data = pd.read_csv('../data/binary/cardio_train.csv', sep=';')\n",
    "X = data.drop(columns=['cardio', 'id'])\n",
    "y = data['cardio']\n",
    "X, X_test, y, y_test = train_test_split(X, y, test_size=0.2, random_state=42)"
   ],
   "outputs": [],
   "execution_count": 12
  },
  {
   "cell_type": "code",
   "id": "2f2df43c",
   "metadata": {
    "ExecuteTime": {
     "end_time": "2025-01-05T01:33:10.766567Z",
     "start_time": "2025-01-05T01:33:10.761963Z"
    }
   },
   "source": "aid = medaid(X, y, mode=\"perform\", metric=\"recall\", search=\"random\")\n",
   "outputs": [],
   "execution_count": 13
  },
  {
   "metadata": {
    "ExecuteTime": {
     "end_time": "2025-01-05T01:38:21.298931Z",
     "start_time": "2025-01-05T01:33:13.002464Z"
    }
   },
   "cell_type": "code",
   "source": "aid.train()",
   "id": "9a3f5b5a2d75fc0f",
   "outputs": [
    {
     "name": "stderr",
     "output_type": "stream",
     "text": [
      "logistic progress:  70%|███████   | 14/20 [00:42<00:18,  3.07s/it]\n",
      "tree progress: 100%|██████████| 20/20 [00:04<00:00,  4.69it/s]\n",
      "random_forest progress: 100%|██████████| 20/20 [03:29<00:00, 10.47s/it]\n",
      "xgboost progress: 100%|██████████| 20/20 [00:27<00:00,  1.39s/it]\n",
      "lightgbm progress: 100%|██████████| 20/20 [00:03<00:00,  6.01it/s]\n"
     ]
    },
    {
     "data": {
      "text/plain": [
       "<Figure size 640x480 with 0 Axes>"
      ]
     },
     "metadata": {},
     "output_type": "display_data"
    }
   ],
   "execution_count": 14
  },
  {
   "metadata": {
    "ExecuteTime": {
     "end_time": "2025-01-05T01:38:27.166687Z",
     "start_time": "2025-01-05T01:38:27.155576Z"
    }
   },
   "cell_type": "code",
   "source": "print(aid.models_ranking())",
   "id": "60b95df3c88ff243",
   "outputs": [
    {
     "name": "stdout",
     "output_type": "stream",
     "text": [
      "           model  best_score        f1  accuracy  precision    recall\n",
      "3        xgboost    0.698788  0.725015  0.735286   0.753307  0.698788\n",
      "2  random_forest    0.692709  0.722705  0.734536   0.755434  0.692709\n",
      "1           tree    0.681052  0.715761  0.729946   0.754514  0.681052\n",
      "0       logistic    0.676583  0.706378  0.719107   0.739018  0.676583\n",
      "4       lightgbm    0.653770  0.705363  0.727250   0.765828  0.653770\n"
     ]
    }
   ],
   "execution_count": 15
  },
  {
   "cell_type": "code",
   "id": "57859bcb",
   "metadata": {
    "ExecuteTime": {
     "end_time": "2025-01-05T01:38:36.234435Z",
     "start_time": "2025-01-05T01:38:36.181986Z"
    }
   },
   "source": "y_hat = aid.predict(X_test)",
   "outputs": [],
   "execution_count": 16
  },
  {
   "cell_type": "code",
   "id": "2ce3ae00",
   "metadata": {
    "ExecuteTime": {
     "end_time": "2025-01-05T01:38:36.894849Z",
     "start_time": "2025-01-05T01:38:36.887027Z"
    }
   },
   "source": [
    "from sklearn.metrics import accuracy_score\n",
    "accuracy_score(y_test, y_hat)"
   ],
   "outputs": [
    {
     "data": {
      "text/plain": [
       "0.7386428571428572"
      ]
     },
     "execution_count": 17,
     "metadata": {},
     "output_type": "execute_result"
    }
   ],
   "execution_count": 17
  },
  {
   "metadata": {
    "ExecuteTime": {
     "end_time": "2025-01-05T01:11:27.740063Z",
     "start_time": "2025-01-05T01:11:27.651885Z"
    }
   },
   "cell_type": "code",
   "source": "git <3",
   "id": "7af83ea256810e2a",
   "outputs": [],
   "execution_count": 10
  },
  {
   "metadata": {},
   "cell_type": "code",
   "outputs": [],
   "execution_count": null,
   "source": "",
   "id": "56cff89d06599eea"
  }
 ],
 "metadata": {
  "kernelspec": {
   "display_name": ".venv",
   "language": "python",
   "name": "python3"
  },
  "language_info": {
   "codemirror_mode": {
    "name": "ipython",
    "version": 3
   },
   "file_extension": ".py",
   "mimetype": "text/x-python",
   "name": "python",
   "nbconvert_exporter": "python",
   "pygments_lexer": "ipython3",
   "version": "3.11.7"
  }
 },
 "nbformat": 5,
 "nbformat_minor": 9
}
