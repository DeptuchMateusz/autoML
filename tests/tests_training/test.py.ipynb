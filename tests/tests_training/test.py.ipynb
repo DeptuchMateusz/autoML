{
 "cells": [
  {
   "cell_type": "code",
   "id": "initial_id",
   "metadata": {
    "collapsed": true,
    "ExecuteTime": {
     "end_time": "2025-01-11T16:56:01.914987Z",
     "start_time": "2025-01-11T16:56:01.873442Z"
    }
   },
   "source": "from project.do_poprawy_code.medaid import medaid",
   "outputs": [],
   "execution_count": 21
  },
  {
   "metadata": {
    "ExecuteTime": {
     "end_time": "2025-01-11T16:56:14.159932Z",
     "start_time": "2025-01-11T16:56:03.662650Z"
    }
   },
   "cell_type": "code",
   "source": "medaid = medaid(dataset_path='../../data/binary/cardio_train.csv', target_column='cardio', metric=\"recall\", search=\"random\", n_iter=1)",
   "id": "8243f11973c5512c",
   "outputs": [],
   "execution_count": 22
  },
  {
   "metadata": {},
   "cell_type": "markdown",
   "source": "",
   "id": "768360aea73c958"
  },
  {
   "metadata": {
    "ExecuteTime": {
     "end_time": "2025-01-11T16:55:49.082339Z",
     "start_time": "2025-01-11T16:55:49.033050Z"
    }
   },
   "cell_type": "code",
   "source": "medaid.path",
   "id": "b2b2687a3fa8c112",
   "outputs": [
    {
     "data": {
      "text/plain": [
       "'C:\\\\Users\\\\Zosia\\\\Desktop\\\\autoML\\\\tests\\\\tests_training/medaid2'"
      ]
     },
     "execution_count": 17,
     "metadata": {},
     "output_type": "execute_result"
    }
   ],
   "execution_count": 17
  },
  {
   "metadata": {
    "ExecuteTime": {
     "end_time": "2025-01-11T16:47:15.325591Z",
     "start_time": "2025-01-11T16:38:48.109798Z"
    }
   },
   "cell_type": "code",
   "source": "medaid.train()",
   "id": "6728077c44394465",
   "outputs": [
    {
     "name": "stderr",
     "output_type": "stream",
     "text": [
      "logistic progress: 100%|██████████| 1/1 [00:09<00:00,  9.99s/it]\n",
      "tree progress: 100%|██████████| 1/1 [00:02<00:00,  2.62s/it]\n",
      "random_forest progress: 100%|██████████| 1/1 [01:46<00:00, 106.83s/it]\n",
      "xgboost progress: 100%|██████████| 1/1 [00:35<00:00, 35.17s/it]\n",
      "lightgbm progress:   0%|          | 0/1 [00:00<?, ?it/s]  File \"C:\\Users\\Zosia\\.conda\\envs\\bhl\\Lib\\site-packages\\joblib\\externals\\loky\\backend\\context.py\", line 282, in _count_physical_cores\n",
      "    raise ValueError(f\"found {cpu_count_physical} physical cores < 1\")\n",
      "lightgbm progress: 100%|██████████| 1/1 [00:04<00:00,  4.31s/it]\n"
     ]
    },
    {
     "ename": "KeyboardInterrupt",
     "evalue": "",
     "output_type": "error",
     "traceback": [
      "\u001B[1;31m---------------------------------------------------------------------------\u001B[0m",
      "\u001B[1;31mKeyboardInterrupt\u001B[0m                         Traceback (most recent call last)",
      "Cell \u001B[1;32mIn[10], line 1\u001B[0m\n\u001B[1;32m----> 1\u001B[0m \u001B[43mmedaid\u001B[49m\u001B[38;5;241;43m.\u001B[39;49m\u001B[43mtrain\u001B[49m\u001B[43m(\u001B[49m\u001B[43m)\u001B[49m\n",
      "File \u001B[1;32m~\\Desktop\\autoML\\project\\do_poprawy_code\\medaid.py:133\u001B[0m, in \u001B[0;36mmedaid.train\u001B[1;34m(self)\u001B[0m\n\u001B[0;32m    131\u001B[0m \u001B[38;5;28mself\u001B[39m\u001B[38;5;241m.\u001B[39mbest_models_scores \u001B[38;5;241m=\u001B[39m best_models_scores\n\u001B[0;32m    132\u001B[0m \u001B[38;5;28mself\u001B[39m\u001B[38;5;241m.\u001B[39mbest_metrics \u001B[38;5;241m=\u001B[39m best_metrics\n\u001B[1;32m--> 133\u001B[0m \u001B[43mmakeplots\u001B[49m\u001B[43m(\u001B[49m\u001B[38;5;28;43mself\u001B[39;49m\u001B[43m)\u001B[49m\n",
      "File \u001B[1;32m~\\Desktop\\autoML\\project\\reporting\\plots.py:203\u001B[0m, in \u001B[0;36mmakeplots\u001B[1;34m(aid)\u001B[0m\n\u001B[0;32m    200\u001B[0m sys\u001B[38;5;241m.\u001B[39mstderr \u001B[38;5;241m=\u001B[39m original_stderr\n\u001B[0;32m    202\u001B[0m distribution_plots(aid)\n\u001B[1;32m--> 203\u001B[0m \u001B[43mcorrelation_plot\u001B[49m\u001B[43m(\u001B[49m\u001B[43maid\u001B[49m\u001B[43m)\u001B[49m\n\u001B[0;32m    204\u001B[0m make_confusion_matrix(aid)\n\u001B[0;32m    205\u001B[0m shap_feature_importance_plot(aid)\n",
      "File \u001B[1;32m~\\Desktop\\autoML\\project\\reporting\\plots.py:63\u001B[0m, in \u001B[0;36mcorrelation_plot\u001B[1;34m(aid)\u001B[0m\n\u001B[0;32m     61\u001B[0m \u001B[38;5;28;01mfor\u001B[39;00m col \u001B[38;5;129;01min\u001B[39;00m X\u001B[38;5;241m.\u001B[39mcolumns:\n\u001B[0;32m     62\u001B[0m     plt\u001B[38;5;241m.\u001B[39mfigure()\n\u001B[1;32m---> 63\u001B[0m     \u001B[43msns\u001B[49m\u001B[38;5;241;43m.\u001B[39;49m\u001B[43mviolinplot\u001B[49m\u001B[43m(\u001B[49m\u001B[43mx\u001B[49m\u001B[38;5;241;43m=\u001B[39;49m\u001B[43my\u001B[49m\u001B[43m,\u001B[49m\u001B[43m \u001B[49m\u001B[43my\u001B[49m\u001B[38;5;241;43m=\u001B[39;49m\u001B[43mX\u001B[49m\u001B[43m[\u001B[49m\u001B[43mcol\u001B[49m\u001B[43m]\u001B[49m\u001B[43m)\u001B[49m\n\u001B[0;32m     64\u001B[0m     plt\u001B[38;5;241m.\u001B[39mtitle(\u001B[38;5;124mf\u001B[39m\u001B[38;5;124m'\u001B[39m\u001B[38;5;132;01m{\u001B[39;00mcol\u001B[38;5;132;01m}\u001B[39;00m\u001B[38;5;124m correlation with y\u001B[39m\u001B[38;5;124m'\u001B[39m)\n\u001B[0;32m     65\u001B[0m     plt\u001B[38;5;241m.\u001B[39msavefig(\u001B[38;5;124mf\u001B[39m\u001B[38;5;124m\"\u001B[39m\u001B[38;5;132;01m{\u001B[39;00mpath\u001B[38;5;132;01m}\u001B[39;00m\u001B[38;5;124m/correlation_plots/\u001B[39m\u001B[38;5;132;01m{\u001B[39;00mcol\u001B[38;5;132;01m}\u001B[39;00m\u001B[38;5;124m_correlation.png\u001B[39m\u001B[38;5;124m\"\u001B[39m)\n",
      "File \u001B[1;32m~\\.conda\\envs\\bhl\\Lib\\site-packages\\seaborn\\categorical.py:1770\u001B[0m, in \u001B[0;36mviolinplot\u001B[1;34m(data, x, y, hue, order, hue_order, orient, color, palette, saturation, fill, inner, split, width, dodge, gap, linewidth, linecolor, cut, gridsize, bw_method, bw_adjust, density_norm, common_norm, hue_norm, formatter, log_scale, native_scale, legend, scale, scale_hue, bw, inner_kws, ax, **kwargs)\u001B[0m\n\u001B[0;32m   1767\u001B[0m kde_kws \u001B[38;5;241m=\u001B[39m \u001B[38;5;28mdict\u001B[39m(cut\u001B[38;5;241m=\u001B[39mcut, gridsize\u001B[38;5;241m=\u001B[39mgridsize, bw_method\u001B[38;5;241m=\u001B[39mbw_method, bw_adjust\u001B[38;5;241m=\u001B[39mbw_adjust)\n\u001B[0;32m   1768\u001B[0m inner_kws \u001B[38;5;241m=\u001B[39m {} \u001B[38;5;28;01mif\u001B[39;00m inner_kws \u001B[38;5;129;01mis\u001B[39;00m \u001B[38;5;28;01mNone\u001B[39;00m \u001B[38;5;28;01melse\u001B[39;00m inner_kws\u001B[38;5;241m.\u001B[39mcopy()\n\u001B[1;32m-> 1770\u001B[0m \u001B[43mp\u001B[49m\u001B[38;5;241;43m.\u001B[39;49m\u001B[43mplot_violins\u001B[49m\u001B[43m(\u001B[49m\n\u001B[0;32m   1771\u001B[0m \u001B[43m    \u001B[49m\u001B[43mwidth\u001B[49m\u001B[38;5;241;43m=\u001B[39;49m\u001B[43mwidth\u001B[49m\u001B[43m,\u001B[49m\n\u001B[0;32m   1772\u001B[0m \u001B[43m    \u001B[49m\u001B[43mdodge\u001B[49m\u001B[38;5;241;43m=\u001B[39;49m\u001B[43mdodge\u001B[49m\u001B[43m,\u001B[49m\n\u001B[0;32m   1773\u001B[0m \u001B[43m    \u001B[49m\u001B[43mgap\u001B[49m\u001B[38;5;241;43m=\u001B[39;49m\u001B[43mgap\u001B[49m\u001B[43m,\u001B[49m\n\u001B[0;32m   1774\u001B[0m \u001B[43m    \u001B[49m\u001B[43msplit\u001B[49m\u001B[38;5;241;43m=\u001B[39;49m\u001B[43msplit\u001B[49m\u001B[43m,\u001B[49m\n\u001B[0;32m   1775\u001B[0m \u001B[43m    \u001B[49m\u001B[43mcolor\u001B[49m\u001B[38;5;241;43m=\u001B[39;49m\u001B[43mcolor\u001B[49m\u001B[43m,\u001B[49m\n\u001B[0;32m   1776\u001B[0m \u001B[43m    \u001B[49m\u001B[43mfill\u001B[49m\u001B[38;5;241;43m=\u001B[39;49m\u001B[43mfill\u001B[49m\u001B[43m,\u001B[49m\n\u001B[0;32m   1777\u001B[0m \u001B[43m    \u001B[49m\u001B[43mlinecolor\u001B[49m\u001B[38;5;241;43m=\u001B[39;49m\u001B[43mlinecolor\u001B[49m\u001B[43m,\u001B[49m\n\u001B[0;32m   1778\u001B[0m \u001B[43m    \u001B[49m\u001B[43mlinewidth\u001B[49m\u001B[38;5;241;43m=\u001B[39;49m\u001B[43mlinewidth\u001B[49m\u001B[43m,\u001B[49m\n\u001B[0;32m   1779\u001B[0m \u001B[43m    \u001B[49m\u001B[43minner\u001B[49m\u001B[38;5;241;43m=\u001B[39;49m\u001B[43minner\u001B[49m\u001B[43m,\u001B[49m\n\u001B[0;32m   1780\u001B[0m \u001B[43m    \u001B[49m\u001B[43mdensity_norm\u001B[49m\u001B[38;5;241;43m=\u001B[39;49m\u001B[43mdensity_norm\u001B[49m\u001B[43m,\u001B[49m\n\u001B[0;32m   1781\u001B[0m \u001B[43m    \u001B[49m\u001B[43mcommon_norm\u001B[49m\u001B[38;5;241;43m=\u001B[39;49m\u001B[43mcommon_norm\u001B[49m\u001B[43m,\u001B[49m\n\u001B[0;32m   1782\u001B[0m \u001B[43m    \u001B[49m\u001B[43mkde_kws\u001B[49m\u001B[38;5;241;43m=\u001B[39;49m\u001B[43mkde_kws\u001B[49m\u001B[43m,\u001B[49m\n\u001B[0;32m   1783\u001B[0m \u001B[43m    \u001B[49m\u001B[43minner_kws\u001B[49m\u001B[38;5;241;43m=\u001B[39;49m\u001B[43minner_kws\u001B[49m\u001B[43m,\u001B[49m\n\u001B[0;32m   1784\u001B[0m \u001B[43m    \u001B[49m\u001B[43mplot_kws\u001B[49m\u001B[38;5;241;43m=\u001B[39;49m\u001B[43mkwargs\u001B[49m\u001B[43m,\u001B[49m\n\u001B[0;32m   1785\u001B[0m \u001B[43m\u001B[49m\u001B[43m)\u001B[49m\n\u001B[0;32m   1787\u001B[0m p\u001B[38;5;241m.\u001B[39m_add_axis_labels(ax)\n\u001B[0;32m   1788\u001B[0m p\u001B[38;5;241m.\u001B[39m_adjust_cat_axis(ax, axis\u001B[38;5;241m=\u001B[39mp\u001B[38;5;241m.\u001B[39morient)\n",
      "File \u001B[1;32m~\\.conda\\envs\\bhl\\Lib\\site-packages\\seaborn\\categorical.py:929\u001B[0m, in \u001B[0;36m_CategoricalPlotter.plot_violins\u001B[1;34m(self, width, dodge, gap, split, color, fill, linecolor, linewidth, inner, density_norm, common_norm, kde_kws, inner_kws, plot_kws)\u001B[0m\n\u001B[0;32m    926\u001B[0m violin_data \u001B[38;5;241m=\u001B[39m []\n\u001B[0;32m    928\u001B[0m \u001B[38;5;66;03m# Iterate through all the data splits once to compute the KDEs\u001B[39;00m\n\u001B[1;32m--> 929\u001B[0m \u001B[43m\u001B[49m\u001B[38;5;28;43;01mfor\u001B[39;49;00m\u001B[43m \u001B[49m\u001B[43msub_vars\u001B[49m\u001B[43m,\u001B[49m\u001B[43m \u001B[49m\u001B[43msub_data\u001B[49m\u001B[43m \u001B[49m\u001B[38;5;129;43;01min\u001B[39;49;00m\u001B[43m \u001B[49m\u001B[38;5;28;43mself\u001B[39;49m\u001B[38;5;241;43m.\u001B[39;49m\u001B[43miter_data\u001B[49m\u001B[43m(\u001B[49m\u001B[43miter_vars\u001B[49m\u001B[43m,\u001B[49m\n\u001B[0;32m    930\u001B[0m \u001B[43m                                         \u001B[49m\u001B[43mfrom_comp_data\u001B[49m\u001B[38;5;241;43m=\u001B[39;49m\u001B[38;5;28;43;01mTrue\u001B[39;49;00m\u001B[43m,\u001B[49m\n\u001B[0;32m    931\u001B[0m \u001B[43m                                         \u001B[49m\u001B[43mallow_empty\u001B[49m\u001B[38;5;241;43m=\u001B[39;49m\u001B[38;5;28;43;01mFalse\u001B[39;49;00m\u001B[43m)\u001B[49m\u001B[43m:\u001B[49m\n\u001B[0;32m    933\u001B[0m \u001B[43m    \u001B[49m\u001B[43msub_data\u001B[49m\u001B[43m[\u001B[49m\u001B[38;5;124;43m\"\u001B[39;49m\u001B[38;5;124;43mweight\u001B[39;49m\u001B[38;5;124;43m\"\u001B[39;49m\u001B[43m]\u001B[49m\u001B[43m \u001B[49m\u001B[38;5;241;43m=\u001B[39;49m\u001B[43m \u001B[49m\u001B[43msub_data\u001B[49m\u001B[38;5;241;43m.\u001B[39;49m\u001B[43mget\u001B[49m\u001B[43m(\u001B[49m\u001B[38;5;124;43m\"\u001B[39;49m\u001B[38;5;124;43mweights\u001B[39;49m\u001B[38;5;124;43m\"\u001B[39;49m\u001B[43m,\u001B[49m\u001B[43m \u001B[49m\u001B[38;5;241;43m1\u001B[39;49m\u001B[43m)\u001B[49m\n\u001B[0;32m    934\u001B[0m \u001B[43m    \u001B[49m\u001B[43mstat_data\u001B[49m\u001B[43m \u001B[49m\u001B[38;5;241;43m=\u001B[39;49m\u001B[43m \u001B[49m\u001B[43mkde\u001B[49m\u001B[38;5;241;43m.\u001B[39;49m\u001B[43m_transform\u001B[49m\u001B[43m(\u001B[49m\u001B[43msub_data\u001B[49m\u001B[43m,\u001B[49m\u001B[43m \u001B[49m\u001B[43mvalue_var\u001B[49m\u001B[43m,\u001B[49m\u001B[43m \u001B[49m\u001B[43m[\u001B[49m\u001B[43m]\u001B[49m\u001B[43m)\u001B[49m\n",
      "File \u001B[1;32m~\\.conda\\envs\\bhl\\Lib\\site-packages\\seaborn\\_base.py:902\u001B[0m, in \u001B[0;36mVectorPlotter.iter_data\u001B[1;34m(self, grouping_vars, reverse, from_comp_data, by_facet, allow_empty, dropna)\u001B[0m\n\u001B[0;32m    899\u001B[0m grouping_vars \u001B[38;5;241m=\u001B[39m [var \u001B[38;5;28;01mfor\u001B[39;00m var \u001B[38;5;129;01min\u001B[39;00m grouping_vars \u001B[38;5;28;01mif\u001B[39;00m var \u001B[38;5;129;01min\u001B[39;00m \u001B[38;5;28mself\u001B[39m\u001B[38;5;241m.\u001B[39mvariables]\n\u001B[0;32m    901\u001B[0m \u001B[38;5;28;01mif\u001B[39;00m from_comp_data:\n\u001B[1;32m--> 902\u001B[0m     data \u001B[38;5;241m=\u001B[39m \u001B[38;5;28;43mself\u001B[39;49m\u001B[38;5;241;43m.\u001B[39;49m\u001B[43mcomp_data\u001B[49m\n\u001B[0;32m    903\u001B[0m \u001B[38;5;28;01melse\u001B[39;00m:\n\u001B[0;32m    904\u001B[0m     data \u001B[38;5;241m=\u001B[39m \u001B[38;5;28mself\u001B[39m\u001B[38;5;241m.\u001B[39mplot_data\n",
      "File \u001B[1;32m~\\.conda\\envs\\bhl\\Lib\\site-packages\\seaborn\\_base.py:1000\u001B[0m, in \u001B[0;36mVectorPlotter.comp_data\u001B[1;34m(self)\u001B[0m\n\u001B[0;32m    995\u001B[0m \u001B[38;5;28;01mif\u001B[39;00m var \u001B[38;5;129;01min\u001B[39;00m \u001B[38;5;28mself\u001B[39m\u001B[38;5;241m.\u001B[39mvar_levels:\n\u001B[0;32m    996\u001B[0m     \u001B[38;5;66;03m# TODO this should happen in some centralized location\u001B[39;00m\n\u001B[0;32m    997\u001B[0m     \u001B[38;5;66;03m# it is similar to GH2419, but more complicated because\u001B[39;00m\n\u001B[0;32m    998\u001B[0m     \u001B[38;5;66;03m# supporting `order` in categorical plots is tricky\u001B[39;00m\n\u001B[0;32m    999\u001B[0m     orig \u001B[38;5;241m=\u001B[39m orig[orig\u001B[38;5;241m.\u001B[39misin(\u001B[38;5;28mself\u001B[39m\u001B[38;5;241m.\u001B[39mvar_levels[var])]\n\u001B[1;32m-> 1000\u001B[0m comp \u001B[38;5;241m=\u001B[39m pd\u001B[38;5;241m.\u001B[39mto_numeric(\u001B[43mconverter\u001B[49m\u001B[38;5;241;43m.\u001B[39;49m\u001B[43mconvert_units\u001B[49m\u001B[43m(\u001B[49m\u001B[43morig\u001B[49m\u001B[43m)\u001B[49m)\u001B[38;5;241m.\u001B[39mastype(\u001B[38;5;28mfloat\u001B[39m)\n\u001B[0;32m   1001\u001B[0m transform \u001B[38;5;241m=\u001B[39m converter\u001B[38;5;241m.\u001B[39mget_transform()\u001B[38;5;241m.\u001B[39mtransform\n\u001B[0;32m   1002\u001B[0m parts\u001B[38;5;241m.\u001B[39mappend(pd\u001B[38;5;241m.\u001B[39mSeries(transform(comp), orig\u001B[38;5;241m.\u001B[39mindex, name\u001B[38;5;241m=\u001B[39morig\u001B[38;5;241m.\u001B[39mname))\n",
      "File \u001B[1;32m~\\.conda\\envs\\bhl\\Lib\\site-packages\\matplotlib\\axis.py:1813\u001B[0m, in \u001B[0;36mAxis.convert_units\u001B[1;34m(self, x)\u001B[0m\n\u001B[0;32m   1811\u001B[0m     \u001B[38;5;28;01mreturn\u001B[39;00m x\n\u001B[0;32m   1812\u001B[0m \u001B[38;5;28;01mtry\u001B[39;00m:\n\u001B[1;32m-> 1813\u001B[0m     ret \u001B[38;5;241m=\u001B[39m \u001B[38;5;28;43mself\u001B[39;49m\u001B[38;5;241;43m.\u001B[39;49m\u001B[43mconverter\u001B[49m\u001B[38;5;241;43m.\u001B[39;49m\u001B[43mconvert\u001B[49m\u001B[43m(\u001B[49m\u001B[43mx\u001B[49m\u001B[43m,\u001B[49m\u001B[43m \u001B[49m\u001B[38;5;28;43mself\u001B[39;49m\u001B[38;5;241;43m.\u001B[39;49m\u001B[43munits\u001B[49m\u001B[43m,\u001B[49m\u001B[43m \u001B[49m\u001B[38;5;28;43mself\u001B[39;49m\u001B[43m)\u001B[49m\n\u001B[0;32m   1814\u001B[0m \u001B[38;5;28;01mexcept\u001B[39;00m \u001B[38;5;167;01mException\u001B[39;00m \u001B[38;5;28;01mas\u001B[39;00m e:\n\u001B[0;32m   1815\u001B[0m     \u001B[38;5;28;01mraise\u001B[39;00m munits\u001B[38;5;241m.\u001B[39mConversionError(\u001B[38;5;124m'\u001B[39m\u001B[38;5;124mFailed to convert value(s) to axis \u001B[39m\u001B[38;5;124m'\u001B[39m\n\u001B[0;32m   1816\u001B[0m                                  \u001B[38;5;124mf\u001B[39m\u001B[38;5;124m'\u001B[39m\u001B[38;5;124munits: \u001B[39m\u001B[38;5;132;01m{\u001B[39;00mx\u001B[38;5;132;01m!r}\u001B[39;00m\u001B[38;5;124m'\u001B[39m) \u001B[38;5;28;01mfrom\u001B[39;00m \u001B[38;5;21;01me\u001B[39;00m\n",
      "File \u001B[1;32m~\\.conda\\envs\\bhl\\Lib\\site-packages\\matplotlib\\category.py:55\u001B[0m, in \u001B[0;36mStrCategoryConverter.convert\u001B[1;34m(value, unit, axis)\u001B[0m\n\u001B[0;32m     53\u001B[0m StrCategoryConverter\u001B[38;5;241m.\u001B[39m_validate_unit(unit)\n\u001B[0;32m     54\u001B[0m \u001B[38;5;66;03m# dtype = object preserves numerical pass throughs\u001B[39;00m\n\u001B[1;32m---> 55\u001B[0m values \u001B[38;5;241m=\u001B[39m np\u001B[38;5;241m.\u001B[39matleast_1d(\u001B[43mnp\u001B[49m\u001B[38;5;241;43m.\u001B[39;49m\u001B[43marray\u001B[49m\u001B[43m(\u001B[49m\u001B[43mvalue\u001B[49m\u001B[43m,\u001B[49m\u001B[43m \u001B[49m\u001B[43mdtype\u001B[49m\u001B[38;5;241;43m=\u001B[39;49m\u001B[38;5;28;43mobject\u001B[39;49m\u001B[43m)\u001B[49m)\n\u001B[0;32m     56\u001B[0m \u001B[38;5;66;03m# force an update so it also does type checking\u001B[39;00m\n\u001B[0;32m     57\u001B[0m unit\u001B[38;5;241m.\u001B[39mupdate(values)\n",
      "\u001B[1;31mKeyboardInterrupt\u001B[0m: "
     ]
    },
    {
     "data": {
      "text/plain": [
       "<Figure size 640x480 with 0 Axes>"
      ]
     },
     "metadata": {},
     "output_type": "display_data"
    },
    {
     "data": {
      "text/plain": [
       "<Figure size 640x480 with 0 Axes>"
      ]
     },
     "metadata": {},
     "output_type": "display_data"
    },
    {
     "data": {
      "text/plain": [
       "<Figure size 640x480 with 0 Axes>"
      ]
     },
     "metadata": {},
     "output_type": "display_data"
    },
    {
     "data": {
      "text/plain": [
       "<Figure size 640x480 with 0 Axes>"
      ]
     },
     "metadata": {},
     "output_type": "display_data"
    },
    {
     "data": {
      "text/plain": [
       "<Figure size 640x480 with 0 Axes>"
      ]
     },
     "metadata": {},
     "output_type": "display_data"
    },
    {
     "data": {
      "text/plain": [
       "<Figure size 640x480 with 0 Axes>"
      ]
     },
     "metadata": {},
     "output_type": "display_data"
    },
    {
     "data": {
      "text/plain": [
       "<Figure size 640x480 with 0 Axes>"
      ]
     },
     "metadata": {},
     "output_type": "display_data"
    },
    {
     "data": {
      "text/plain": [
       "<Figure size 640x480 with 0 Axes>"
      ]
     },
     "metadata": {},
     "output_type": "display_data"
    },
    {
     "data": {
      "text/plain": [
       "<Figure size 640x480 with 0 Axes>"
      ]
     },
     "metadata": {},
     "output_type": "display_data"
    },
    {
     "data": {
      "text/plain": [
       "<Figure size 640x480 with 0 Axes>"
      ]
     },
     "metadata": {},
     "output_type": "display_data"
    },
    {
     "data": {
      "text/plain": [
       "<Figure size 640x480 with 0 Axes>"
      ]
     },
     "metadata": {},
     "output_type": "display_data"
    },
    {
     "data": {
      "text/plain": [
       "<Figure size 640x480 with 0 Axes>"
      ]
     },
     "metadata": {},
     "output_type": "display_data"
    },
    {
     "data": {
      "text/plain": [
       "<Figure size 1000x1000 with 0 Axes>"
      ]
     },
     "metadata": {},
     "output_type": "display_data"
    },
    {
     "data": {
      "text/plain": [
       "<Figure size 640x480 with 0 Axes>"
      ]
     },
     "metadata": {},
     "output_type": "display_data"
    },
    {
     "data": {
      "text/plain": [
       "<Figure size 640x480 with 0 Axes>"
      ]
     },
     "metadata": {},
     "output_type": "display_data"
    },
    {
     "data": {
      "text/plain": [
       "<Figure size 640x480 with 1 Axes>"
      ],
      "image/png": "[encoded data removed]"
     },
     "metadata": {},
     "output_type": "display_data"
    }
   ],
   "execution_count": 10
  },
  {
   "metadata": {},
   "cell_type": "code",
   "source": "medaid.models_ranking()",
   "id": "414a2c2333e5b2fa",
   "outputs": [],
   "execution_count": null
  },
  {
   "metadata": {},
   "cell_type": "code",
   "source": "medaid.report()",
   "id": "46056d9e67a74a2f",
   "outputs": [],
   "execution_count": null
  },
  {
   "metadata": {},
   "cell_type": "code",
   "source": "",
   "id": "c3a16da21a2c6f50",
   "outputs": [],
   "execution_count": null
  },
  {
   "metadata": {},
   "cell_type": "code",
   "source": "",
   "id": "15e8da5308a328de",
   "outputs": [],
   "execution_count": null
  }
 ],
 "metadata": {
  "kernelspec": {
   "display_name": "Python 3",
   "language": "python",
   "name": "python3"
  },
  "language_info": {
   "codemirror_mode": {
    "name": "ipython",
    "version": 2
   },
   "file_extension": ".py",
   "mimetype": "text/x-python",
   "name": "python",
   "nbconvert_exporter": "python",
   "pygments_lexer": "ipython2",
   "version": "2.7.6"
  }
 },
 "nbformat": 4,
 "nbformat_minor": 5
}
