{
 "cells": [
  {
   "cell_type": "code",
   "id": "initial_id",
   "metadata": {
    "collapsed": true,
    "ExecuteTime": {
     "end_time": "2025-01-11T12:14:10.578353Z",
     "start_time": "2025-01-11T12:14:09.225363Z"
    }
   },
   "source": "from project.do_poprawy_code.medaid import medaid",
   "outputs": [],
   "execution_count": 2
  },
  {
   "metadata": {
    "ExecuteTime": {
     "end_time": "2025-01-11T12:14:10.898579Z",
     "start_time": "2025-01-11T12:14:10.582622Z"
    }
   },
   "cell_type": "code",
   "source": "medaid = medaid(dataset_path='../../data/binary/cardio_train.csv', target_column='cardio', metric=\"recall\", search=\"random\", n_iter=2)",
   "id": "8243f11973c5512c",
   "outputs": [],
   "execution_count": 3
  },
  {
   "metadata": {
    "ExecuteTime": {
     "end_time": "2025-01-11T12:14:10.907955Z",
     "start_time": "2025-01-11T12:14:10.904701Z"
    }
   },
   "cell_type": "code",
   "source": "medaid.path",
   "id": "b2b2687a3fa8c112",
   "outputs": [
    {
     "data": {
      "text/plain": [
       "'/Users/mateuszdeptuch/SCHOOL/AUTOML/projekt2/tests/tests_training/medaid1'"
      ]
     },
     "execution_count": 4,
     "metadata": {},
     "output_type": "execute_result"
    }
   ],
   "execution_count": 4
  },
  {
   "metadata": {
    "ExecuteTime": {
     "end_time": "2025-01-11T12:15:34.697011Z",
     "start_time": "2025-01-11T12:14:10.972771Z"
    }
   },
   "cell_type": "code",
   "source": "medaid.train()",
   "id": "6728077c44394465",
   "outputs": [
    {
     "name": "stderr",
     "output_type": "stream",
     "text": [
      "logistic progress: 100%|██████████| 2/2 [00:09<00:00,  4.59s/it]\n",
      "tree progress: 100%|██████████| 2/2 [00:00<00:00,  4.30it/s]\n",
      "random_forest progress: 100%|██████████| 2/2 [00:36<00:00, 18.37s/it]\n",
      "xgboost progress: 100%|██████████| 2/2 [00:06<00:00,  3.02s/it]\n",
      "lightgbm progress: 100%|██████████| 2/2 [00:00<00:00,  5.20it/s]\n"
     ]
    },
    {
     "data": {
      "text/plain": [
       "<Figure size 640x480 with 0 Axes>"
      ]
     },
     "metadata": {},
     "output_type": "display_data"
    }
   ],
   "execution_count": 5
  },
  {
   "metadata": {
    "ExecuteTime": {
     "end_time": "2025-01-11T12:15:34.745216Z",
     "start_time": "2025-01-11T12:15:34.739175Z"
    }
   },
   "cell_type": "code",
   "source": "medaid.models_ranking()",
   "id": "414a2c2333e5b2fa",
   "outputs": [
    {
     "data": {
      "text/plain": [
       "           model  best_score        f1  accuracy  precision    recall  \\\n",
       "3        xgboost    0.694926  0.720580  0.730857   0.748237  0.694926   \n",
       "2  random_forest    0.692209  0.722103  0.733929   0.754708  0.692209   \n",
       "1           tree    0.680945  0.715727  0.729946   0.754580  0.680945   \n",
       "0       logistic    0.672078  0.698263  0.709911   0.726672  0.672078   \n",
       "4       lightgbm    0.648335  0.704614  0.728554   0.771654  0.648335   \n",
       "\n",
       "   test_best_score   test_f1  test_accuracy  test_precision  test_recall  \n",
       "3         0.695094  0.722288       0.732286        0.751696     0.695094  \n",
       "2         0.695665  0.728168       0.739857        0.763858     0.695665  \n",
       "1         0.709926  0.727246       0.733286        0.745433     0.709926  \n",
       "0         0.678979  0.706485       0.717429        0.736313     0.678979  \n",
       "4         0.652881  0.709383       0.732071        0.776590     0.652881  "
      ],
      "text/html": [
       "<div>\n",
       "<style scoped>\n",
       "    .dataframe tbody tr th:only-of-type {\n",
       "        vertical-align: middle;\n",
       "    }\n",
       "\n",
       "    .dataframe tbody tr th {\n",
       "        vertical-align: top;\n",
       "    }\n",
       "\n",
       "    .dataframe thead th {\n",
       "        text-align: right;\n",
       "    }\n",
       "</style>\n",
       "<table border=\"1\" class=\"dataframe\">\n",
       "  <thead>\n",
       "    <tr style=\"text-align: right;\">\n",
       "      <th></th>\n",
       "      <th>model</th>\n",
       "      <th>best_score</th>\n",
       "      <th>f1</th>\n",
       "      <th>accuracy</th>\n",
       "      <th>precision</th>\n",
       "      <th>recall</th>\n",
       "      <th>test_best_score</th>\n",
       "      <th>test_f1</th>\n",
       "      <th>test_accuracy</th>\n",
       "      <th>test_precision</th>\n",
       "      <th>test_recall</th>\n",
       "    </tr>\n",
       "  </thead>\n",
       "  <tbody>\n",
       "    <tr>\n",
       "      <th>3</th>\n",
       "      <td>xgboost</td>\n",
       "      <td>0.694926</td>\n",
       "      <td>0.720580</td>\n",
       "      <td>0.730857</td>\n",
       "      <td>0.748237</td>\n",
       "      <td>0.694926</td>\n",
       "      <td>0.695094</td>\n",
       "      <td>0.722288</td>\n",
       "      <td>0.732286</td>\n",
       "      <td>0.751696</td>\n",
       "      <td>0.695094</td>\n",
       "    </tr>\n",
       "    <tr>\n",
       "      <th>2</th>\n",
       "      <td>random_forest</td>\n",
       "      <td>0.692209</td>\n",
       "      <td>0.722103</td>\n",
       "      <td>0.733929</td>\n",
       "      <td>0.754708</td>\n",
       "      <td>0.692209</td>\n",
       "      <td>0.695665</td>\n",
       "      <td>0.728168</td>\n",
       "      <td>0.739857</td>\n",
       "      <td>0.763858</td>\n",
       "      <td>0.695665</td>\n",
       "    </tr>\n",
       "    <tr>\n",
       "      <th>1</th>\n",
       "      <td>tree</td>\n",
       "      <td>0.680945</td>\n",
       "      <td>0.715727</td>\n",
       "      <td>0.729946</td>\n",
       "      <td>0.754580</td>\n",
       "      <td>0.680945</td>\n",
       "      <td>0.709926</td>\n",
       "      <td>0.727246</td>\n",
       "      <td>0.733286</td>\n",
       "      <td>0.745433</td>\n",
       "      <td>0.709926</td>\n",
       "    </tr>\n",
       "    <tr>\n",
       "      <th>0</th>\n",
       "      <td>logistic</td>\n",
       "      <td>0.672078</td>\n",
       "      <td>0.698263</td>\n",
       "      <td>0.709911</td>\n",
       "      <td>0.726672</td>\n",
       "      <td>0.672078</td>\n",
       "      <td>0.678979</td>\n",
       "      <td>0.706485</td>\n",
       "      <td>0.717429</td>\n",
       "      <td>0.736313</td>\n",
       "      <td>0.678979</td>\n",
       "    </tr>\n",
       "    <tr>\n",
       "      <th>4</th>\n",
       "      <td>lightgbm</td>\n",
       "      <td>0.648335</td>\n",
       "      <td>0.704614</td>\n",
       "      <td>0.728554</td>\n",
       "      <td>0.771654</td>\n",
       "      <td>0.648335</td>\n",
       "      <td>0.652881</td>\n",
       "      <td>0.709383</td>\n",
       "      <td>0.732071</td>\n",
       "      <td>0.776590</td>\n",
       "      <td>0.652881</td>\n",
       "    </tr>\n",
       "  </tbody>\n",
       "</table>\n",
       "</div>"
      ]
     },
     "execution_count": 6,
     "metadata": {},
     "output_type": "execute_result"
    }
   ],
   "execution_count": 6
  },
  {
   "metadata": {
    "ExecuteTime": {
     "end_time": "2025-01-11T12:15:34.816706Z",
     "start_time": "2025-01-11T12:15:34.810130Z"
    }
   },
   "cell_type": "code",
   "source": "medaid.report()",
   "id": "46056d9e67a74a2f",
   "outputs": [],
   "execution_count": 7
  },
  {
   "metadata": {
    "ExecuteTime": {
     "end_time": "2025-01-11T12:14:04.792048Z",
     "start_time": "2025-01-11T12:14:04.790262Z"
    }
   },
   "cell_type": "code",
   "source": "",
   "id": "c3a16da21a2c6f50",
   "outputs": [],
   "execution_count": null
  },
  {
   "metadata": {},
   "cell_type": "code",
   "outputs": [],
   "execution_count": null,
   "source": "",
   "id": "15e8da5308a328de"
  }
 ],
 "metadata": {
  "kernelspec": {
   "display_name": "Python 3",
   "language": "python",
   "name": "python3"
  },
  "language_info": {
   "codemirror_mode": {
    "name": "ipython",
    "version": 2
   },
   "file_extension": ".py",
   "mimetype": "text/x-python",
   "name": "python",
   "nbconvert_exporter": "python",
   "pygments_lexer": "ipython2",
   "version": "2.7.6"
  }
 },
 "nbformat": 4,
 "nbformat_minor": 5
}
