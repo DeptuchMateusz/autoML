{
 "cells": [
  {
   "cell_type": "code",
   "execution_count": 1,
   "id": "initial_id",
   "metadata": {
    "ExecuteTime": {
     "end_time": "2025-01-11T18:23:07.470996Z",
     "start_time": "2025-01-11T18:23:02.589139Z"
    },
    "collapsed": true
   },
   "outputs": [],
   "source": [
    "from medaid.training.medaid import medaid"
   ]
  },
  {
   "cell_type": "code",
   "execution_count": 2,
   "id": "8243f11973c5512c",
   "metadata": {
    "ExecuteTime": {
     "end_time": "2025-01-11T18:23:10.732788Z",
     "start_time": "2025-01-11T18:23:09.319537Z"
    }
   },
   "outputs": [],
   "source": [
    "aid = medaid(dataset_path='../../data/binary/alzheimers_disease_data.csv', target_column=\"Diagnosis\", metric=\"recall\", search=\"random\", n_iter=1)"
   ]
  },
  {
   "cell_type": "code",
   "execution_count": null,
   "id": "b2b2687a3fa8c112",
   "metadata": {
    "ExecuteTime": {
     "end_time": "2025-01-11T18:23:12.154364Z",
     "start_time": "2025-01-11T18:23:12.142679Z"
    }
   },
   "outputs": [
    {
     "data": {
      "text/plain": [
       "'/Users/Karolina/Desktop/uni/5_semestr/AutoML/autoML/tests/tests_training/medaid1'"
      ]
     },
     "execution_count": 5,
     "metadata": {},
     "output_type": "execute_result"
    }
   ],
   "source": [
    "aid.path"
   ]
  },
  {
   "cell_type": "code",
   "execution_count": null,
   "id": "6728077c44394465",
   "metadata": {
    "ExecuteTime": {
     "start_time": "2025-01-11T18:23:14.579021Z"
    },
    "jupyter": {
     "is_executing": true
    }
   },
   "outputs": [],
   "source": [
    "aid.train()"
   ]
  },
  {
   "cell_type": "code",
   "execution_count": 15,
   "id": "ac8f5b3d",
   "metadata": {},
   "outputs": [],
   "source": [
    "aid.save()"
   ]
  },
  {
   "cell_type": "code",
   "execution_count": 4,
   "id": "46056d9e67a74a2f",
   "metadata": {},
   "outputs": [],
   "source": [
    "aid.report()"
   ]
  }
 ],
 "metadata": {
  "kernelspec": {
   "display_name": "env_p11",
   "language": "python",
   "name": "python3"
  },
  "language_info": {
   "codemirror_mode": {
    "name": "ipython",
    "version": 3
   },
   "file_extension": ".py",
   "mimetype": "text/x-python",
   "name": "python",
   "nbconvert_exporter": "python",
   "pygments_lexer": "ipython3",
   "version": "3.11.10"
  }
 },
 "nbformat": 4,
 "nbformat_minor": 5
}
