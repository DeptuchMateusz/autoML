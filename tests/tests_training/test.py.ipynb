{
 "cells": [
  {
   "cell_type": "code",
   "execution_count": 1,
   "id": "initial_id",
   "metadata": {
    "ExecuteTime": {
     "end_time": "2025-01-11T16:56:01.914987Z",
     "start_time": "2025-01-11T16:56:01.873442Z"
    },
    "collapsed": true
   },
   "outputs": [],
   "source": [
    "from project.do_poprawy_code.medaid import medaid"
   ]
  },
  {
   "cell_type": "code",
   "execution_count": 2,
   "id": "8243f11973c5512c",
   "metadata": {
    "ExecuteTime": {
     "end_time": "2025-01-11T16:56:14.159932Z",
     "start_time": "2025-01-11T16:56:03.662650Z"
    }
   },
   "outputs": [],
   "source": [
    "medaid = medaid(dataset_path='../../data/binary/cardio_train.csv', target_column='cardio', metric=\"recall\", search=\"random\", n_iter=1)"
   ]
  },
  {
   "cell_type": "code",
   "execution_count": 3,
   "id": "b2b2687a3fa8c112",
   "metadata": {
    "ExecuteTime": {
     "end_time": "2025-01-11T16:55:49.082339Z",
     "start_time": "2025-01-11T16:55:49.033050Z"
    }
   },
   "outputs": [
    {
     "data": {
      "text/plain": [
       "'c:\\\\Users\\\\Zosia\\\\Desktop\\\\autoML\\\\tests\\\\tests_training/medaid2'"
      ]
     },
     "execution_count": 3,
     "metadata": {},
     "output_type": "execute_result"
    }
   ],
   "source": [
    "medaid.path"
   ]
  },
  {
   "cell_type": "code",
   "execution_count": 4,
   "id": "6728077c44394465",
   "metadata": {
    "ExecuteTime": {
     "end_time": "2025-01-11T16:47:15.325591Z",
     "start_time": "2025-01-11T16:38:48.109798Z"
    }
   },
   "outputs": [
    {
     "name": "stderr",
     "output_type": "stream",
     "text": [
      "logistic progress: 100%|██████████| 1/1 [00:00<00:00,  2.04it/s]\n",
      "tree progress: 100%|██████████| 1/1 [00:00<00:00,  2.38it/s]\n",
      "random_forest progress: 100%|██████████| 1/1 [00:07<00:00,  7.98s/it]\n",
      "xgboost progress: 100%|██████████| 1/1 [00:02<00:00,  2.74s/it]\n",
      "lightgbm progress:   0%|          | 0/1 [00:00<?, ?it/s]  File \"c:\\Users\\Zosia\\.conda\\envs\\bhl\\Lib\\site-packages\\joblib\\externals\\loky\\backend\\context.py\", line 282, in _count_physical_cores\n",
      "    raise ValueError(f\"found {cpu_count_physical} physical cores < 1\")\n",
      "lightgbm progress: 100%|██████████| 1/1 [00:00<00:00,  2.40it/s]\n",
      "c:\\Users\\Zosia\\.conda\\envs\\bhl\\Lib\\site-packages\\project\\reporting\\plots.py:62: RuntimeWarning: More than 20 figures have been opened. Figures created through the pyplot interface (`matplotlib.pyplot.figure`) are retained until explicitly closed and may consume too much memory. (To control this warning, see the rcParam `figure.max_open_warning`). Consider using `matplotlib.pyplot.close()`.\n"
     ]
    },
    {
     "name": "stdout",
     "output_type": "stream",
     "text": [
      "SHAP values for RandomForestClassifier: [[[ 0.05156103 -0.05156103]\n",
      "  [-0.00055307  0.00055307]\n",
      "  [-0.00109934  0.00109934]\n",
      "  ...\n",
      "  [-0.00183146  0.00183146]\n",
      "  [-0.00090464  0.00090464]\n",
      "  [ 0.00713665 -0.00713665]]\n",
      "\n",
      " [[-0.00129158  0.00129158]\n",
      "  [-0.00242401  0.00242401]\n",
      "  [-0.0041454   0.0041454 ]\n",
      "  ...\n",
      "  [-0.0009632   0.0009632 ]\n",
      "  [-0.00055446  0.00055446]\n",
      "  [ 0.00154266 -0.00154266]]\n",
      "\n",
      " [[ 0.02278848 -0.02278848]\n",
      "  [-0.00147728  0.00147728]\n",
      "  [-0.00280678  0.00280678]\n",
      "  ...\n",
      "  [-0.00285587  0.00285587]\n",
      "  [-0.00094359  0.00094359]\n",
      "  [-0.00065076  0.00065076]]\n",
      "\n",
      " ...\n",
      "\n",
      " [[-0.07124577  0.07124577]\n",
      "  [ 0.00369255 -0.00369255]\n",
      "  [-0.00504558  0.00504558]\n",
      "  ...\n",
      "  [ 0.01687354 -0.01687354]\n",
      "  [-0.00148916  0.00148916]\n",
      "  [ 0.0047399  -0.0047399 ]]\n",
      "\n",
      " [[-0.21638617  0.21638617]\n",
      "  [-0.00295196  0.00295196]\n",
      "  [-0.00332055  0.00332055]\n",
      "  ...\n",
      "  [-0.00199732  0.00199732]\n",
      "  [-0.00086846  0.00086846]\n",
      "  [-0.04906098  0.04906098]]\n",
      "\n",
      " [[-0.09306221  0.09306221]\n",
      "  [-0.00369889  0.00369889]\n",
      "  [-0.00713835  0.00713835]\n",
      "  ...\n",
      "  [-0.00268853  0.00268853]\n",
      "  [-0.00173665  0.00173665]\n",
      "  [ 0.00557339 -0.00557339]]]\n",
      "SHAP values shape: (700, 11, 2)\n",
      "X shape: (700, 11)\n",
      "SHAP values for XGBClassifier: [[-2.8089485e-01 -5.4567996e-02  8.1787296e-02 ...  2.3004644e-02\n",
      "   5.6694788e-03 -6.1428472e-02]\n",
      " [-2.8878134e-01  8.4020287e-02  1.6592810e-01 ...  1.1249068e-03\n",
      "  -2.1518229e-02 -7.1707172e-03]\n",
      " [-2.3249592e-01 -1.3363932e-01  2.9626122e-01 ... -5.6068981e-03\n",
      "  -2.0957943e-03 -2.4183303e-01]\n",
      " ...\n",
      " [-6.2590495e-02 -4.7788225e-02  3.9178035e-01 ... -9.3319975e-02\n",
      "  -3.9394526e-03 -2.4837874e-01]\n",
      " [ 1.6577038e+00  1.7721285e-01  2.1791571e-01 ... -1.2791571e-02\n",
      "   1.6319631e-02  5.4471630e-01]\n",
      " [ 5.4183286e-01 -4.8839819e-02  2.3011985e-01 ...  2.6864875e-02\n",
      "   1.4328878e-02 -2.6705191e-02]]\n",
      "SHAP values shape: (700, 11)\n",
      "X shape: (700, 11)\n",
      "SHAP values for DecisionTreeClassifier: [[[ 6.35219252e-02 -6.35219252e-02]\n",
      "  [ 2.68111516e-03 -2.68111516e-03]\n",
      "  [-2.01613515e-03  2.01613515e-03]\n",
      "  ...\n",
      "  [-1.90944153e-03  1.90944153e-03]\n",
      "  [-5.26096433e-04  5.26096433e-04]\n",
      "  [ 3.68047334e-03 -3.68047334e-03]]\n",
      "\n",
      " [[-8.37422308e-03  8.37422308e-03]\n",
      "  [-1.97986233e-03  1.97986233e-03]\n",
      "  [-1.90386278e-03  1.90386278e-03]\n",
      "  ...\n",
      "  [-1.26242796e-03  1.26242796e-03]\n",
      "  [-1.37090819e-04  1.37090819e-04]\n",
      "  [ 2.04738010e-03 -2.04738010e-03]]\n",
      "\n",
      " [[ 1.29359778e-03 -1.29359778e-03]\n",
      "  [ 3.37779881e-03 -3.37779881e-03]\n",
      "  [-8.37298175e-03  8.37298175e-03]\n",
      "  ...\n",
      "  [-1.37930791e-02  1.37930791e-02]\n",
      "  [ 5.81070767e-04 -5.81070767e-04]\n",
      "  [ 8.09335673e-03 -8.09335673e-03]]\n",
      "\n",
      " ...\n",
      "\n",
      " [[-1.91612896e-02  1.91612896e-02]\n",
      "  [ 3.32199232e-03 -3.32199232e-03]\n",
      "  [ 3.75740080e-03 -3.75740080e-03]\n",
      "  ...\n",
      "  [ 4.00706936e-02 -4.00706936e-02]\n",
      "  [-3.16520830e-04  3.16520830e-04]\n",
      "  [ 4.85804980e-03 -4.85804980e-03]]\n",
      "\n",
      " [[-3.00055278e-01  3.00055278e-01]\n",
      "  [-3.30266406e-03  3.30266406e-03]\n",
      "  [-1.63879097e-02  1.63879097e-02]\n",
      "  ...\n",
      "  [-2.89313308e-03  2.89313308e-03]\n",
      "  [ 7.32710695e-05 -7.32710695e-05]\n",
      "  [-1.08792366e-01  1.08792366e-01]]\n",
      "\n",
      " [[-1.68865232e-01  1.68865232e-01]\n",
      "  [-6.16752623e-03  6.16752623e-03]\n",
      "  [-1.23983857e-02  1.23983857e-02]\n",
      "  ...\n",
      "  [-3.11594809e-03  3.11594809e-03]\n",
      "  [-4.30073078e-04  4.30073078e-04]\n",
      "  [ 6.27206391e-03 -6.27206391e-03]]]\n",
      "SHAP values shape: (700, 11, 2)\n",
      "X shape: (700, 11)\n",
      "SHAP values for LGBMClassifier: [[-3.07970386e-03  0.00000000e+00  0.00000000e+00 ...  0.00000000e+00\n",
      "   0.00000000e+00 -2.34489493e-04]\n",
      " [ 1.52959737e-03  0.00000000e+00  0.00000000e+00 ...  0.00000000e+00\n",
      "   0.00000000e+00 -7.29966631e-05]\n",
      " [-2.44668495e-03  0.00000000e+00  0.00000000e+00 ...  0.00000000e+00\n",
      "   0.00000000e+00  2.91117329e-04]\n",
      " ...\n",
      " [ 1.22216083e-02  0.00000000e+00  0.00000000e+00 ...  0.00000000e+00\n",
      "   0.00000000e+00 -9.80895837e-05]\n",
      " [ 1.16331334e-02  0.00000000e+00  0.00000000e+00 ...  0.00000000e+00\n",
      "   0.00000000e+00  1.66143348e-03]\n",
      " [ 1.06329588e-02  0.00000000e+00  0.00000000e+00 ...  0.00000000e+00\n",
      "   0.00000000e+00 -1.04181237e-04]]\n",
      "SHAP values shape: (700, 11)\n",
      "X shape: (700, 11)\n"
     ]
    },
    {
     "data": {
      "text/plain": [
       "<Figure size 640x480 with 0 Axes>"
      ]
     },
     "metadata": {},
     "output_type": "display_data"
    },
    {
     "data": {
      "text/plain": [
       "<Figure size 640x480 with 0 Axes>"
      ]
     },
     "metadata": {},
     "output_type": "display_data"
    },
    {
     "data": {
      "text/plain": [
       "<Figure size 640x480 with 0 Axes>"
      ]
     },
     "metadata": {},
     "output_type": "display_data"
    },
    {
     "data": {
      "text/plain": [
       "<Figure size 640x480 with 0 Axes>"
      ]
     },
     "metadata": {},
     "output_type": "display_data"
    },
    {
     "data": {
      "text/plain": [
       "<Figure size 640x480 with 0 Axes>"
      ]
     },
     "metadata": {},
     "output_type": "display_data"
    },
    {
     "data": {
      "text/plain": [
       "<Figure size 640x480 with 0 Axes>"
      ]
     },
     "metadata": {},
     "output_type": "display_data"
    },
    {
     "data": {
      "text/plain": [
       "<Figure size 640x480 with 0 Axes>"
      ]
     },
     "metadata": {},
     "output_type": "display_data"
    },
    {
     "data": {
      "text/plain": [
       "<Figure size 640x480 with 0 Axes>"
      ]
     },
     "metadata": {},
     "output_type": "display_data"
    },
    {
     "data": {
      "text/plain": [
       "<Figure size 640x480 with 0 Axes>"
      ]
     },
     "metadata": {},
     "output_type": "display_data"
    },
    {
     "data": {
      "text/plain": [
       "<Figure size 640x480 with 0 Axes>"
      ]
     },
     "metadata": {},
     "output_type": "display_data"
    },
    {
     "data": {
      "text/plain": [
       "<Figure size 640x480 with 0 Axes>"
      ]
     },
     "metadata": {},
     "output_type": "display_data"
    },
    {
     "data": {
      "text/plain": [
       "<Figure size 640x480 with 0 Axes>"
      ]
     },
     "metadata": {},
     "output_type": "display_data"
    },
    {
     "data": {
      "text/plain": [
       "<Figure size 1000x1000 with 0 Axes>"
      ]
     },
     "metadata": {},
     "output_type": "display_data"
    },
    {
     "data": {
      "text/plain": [
       "<Figure size 640x480 with 0 Axes>"
      ]
     },
     "metadata": {},
     "output_type": "display_data"
    },
    {
     "data": {
      "text/plain": [
       "<Figure size 640x480 with 0 Axes>"
      ]
     },
     "metadata": {},
     "output_type": "display_data"
    },
    {
     "data": {
      "text/plain": [
       "<Figure size 640x480 with 0 Axes>"
      ]
     },
     "metadata": {},
     "output_type": "display_data"
    },
    {
     "data": {
      "text/plain": [
       "<Figure size 640x480 with 0 Axes>"
      ]
     },
     "metadata": {},
     "output_type": "display_data"
    },
    {
     "data": {
      "text/plain": [
       "<Figure size 640x480 with 0 Axes>"
      ]
     },
     "metadata": {},
     "output_type": "display_data"
    },
    {
     "data": {
      "text/plain": [
       "<Figure size 640x480 with 0 Axes>"
      ]
     },
     "metadata": {},
     "output_type": "display_data"
    },
    {
     "data": {
      "text/plain": [
       "<Figure size 640x480 with 0 Axes>"
      ]
     },
     "metadata": {},
     "output_type": "display_data"
    },
    {
     "data": {
      "text/plain": [
       "<Figure size 640x480 with 0 Axes>"
      ]
     },
     "metadata": {},
     "output_type": "display_data"
    },
    {
     "data": {
      "text/plain": [
       "<Figure size 640x480 with 0 Axes>"
      ]
     },
     "metadata": {},
     "output_type": "display_data"
    },
    {
     "data": {
      "text/plain": [
       "<Figure size 640x480 with 0 Axes>"
      ]
     },
     "metadata": {},
     "output_type": "display_data"
    },
    {
     "data": {
      "text/plain": [
       "<Figure size 640x480 with 0 Axes>"
      ]
     },
     "metadata": {},
     "output_type": "display_data"
    },
    {
     "data": {
      "text/plain": [
       "<Figure size 640x480 with 0 Axes>"
      ]
     },
     "metadata": {},
     "output_type": "display_data"
    },
    {
     "data": {
      "text/plain": [
       "<Figure size 640x480 with 0 Axes>"
      ]
     },
     "metadata": {},
     "output_type": "display_data"
    },
    {
     "data": {
      "text/plain": [
       "<Figure size 640x480 with 0 Axes>"
      ]
     },
     "metadata": {},
     "output_type": "display_data"
    },
    {
     "data": {
      "text/plain": [
       "<Figure size 640x480 with 0 Axes>"
      ]
     },
     "metadata": {},
     "output_type": "display_data"
    },
    {
     "data": {
      "text/plain": [
       "<Figure size 640x480 with 0 Axes>"
      ]
     },
     "metadata": {},
     "output_type": "display_data"
    },
    {
     "data": {
      "text/plain": [
       "<Figure size 640x480 with 0 Axes>"
      ]
     },
     "metadata": {},
     "output_type": "display_data"
    },
    {
     "data": {
      "text/plain": [
       "<Figure size 640x480 with 0 Axes>"
      ]
     },
     "metadata": {},
     "output_type": "display_data"
    },
    {
     "data": {
      "text/plain": [
       "<Figure size 640x480 with 0 Axes>"
      ]
     },
     "metadata": {},
     "output_type": "display_data"
    },
    {
     "data": {
      "text/plain": [
       "<Figure size 640x480 with 0 Axes>"
      ]
     },
     "metadata": {},
     "output_type": "display_data"
    },
    {
     "data": {
      "text/plain": [
       "<Figure size 640x480 with 0 Axes>"
      ]
     },
     "metadata": {},
     "output_type": "display_data"
    }
   ],
   "source": [
    "medaid.train()"
   ]
  },
  {
   "cell_type": "code",
   "execution_count": 5,
   "id": "414a2c2333e5b2fa",
   "metadata": {},
   "outputs": [
    {
     "data": {
      "text/html": [
       "<div>\n",
       "<style scoped>\n",
       "    .dataframe tbody tr th:only-of-type {\n",
       "        vertical-align: middle;\n",
       "    }\n",
       "\n",
       "    .dataframe tbody tr th {\n",
       "        vertical-align: top;\n",
       "    }\n",
       "\n",
       "    .dataframe thead th {\n",
       "        text-align: right;\n",
       "    }\n",
       "</style>\n",
       "<table border=\"1\" class=\"dataframe\">\n",
       "  <thead>\n",
       "    <tr style=\"text-align: right;\">\n",
       "      <th></th>\n",
       "      <th>model</th>\n",
       "      <th>best_score</th>\n",
       "      <th>f1</th>\n",
       "      <th>accuracy</th>\n",
       "      <th>precision</th>\n",
       "      <th>recall</th>\n",
       "      <th>test_best_score</th>\n",
       "      <th>test_f1</th>\n",
       "      <th>test_accuracy</th>\n",
       "      <th>test_precision</th>\n",
       "      <th>test_recall</th>\n",
       "    </tr>\n",
       "  </thead>\n",
       "  <tbody>\n",
       "    <tr>\n",
       "      <th>2</th>\n",
       "      <td>random_forest</td>\n",
       "      <td>0.687703</td>\n",
       "      <td>0.721413</td>\n",
       "      <td>0.734750</td>\n",
       "      <td>0.758623</td>\n",
       "      <td>0.687703</td>\n",
       "      <td>0.692384</td>\n",
       "      <td>0.727450</td>\n",
       "      <td>0.740143</td>\n",
       "      <td>0.766256</td>\n",
       "      <td>0.692384</td>\n",
       "    </tr>\n",
       "    <tr>\n",
       "      <th>3</th>\n",
       "      <td>xgboost</td>\n",
       "      <td>0.670612</td>\n",
       "      <td>0.689982</td>\n",
       "      <td>0.699036</td>\n",
       "      <td>0.710583</td>\n",
       "      <td>0.670612</td>\n",
       "      <td>0.679835</td>\n",
       "      <td>0.702890</td>\n",
       "      <td>0.712143</td>\n",
       "      <td>0.727564</td>\n",
       "      <td>0.679835</td>\n",
       "    </tr>\n",
       "    <tr>\n",
       "      <th>1</th>\n",
       "      <td>tree</td>\n",
       "      <td>0.667036</td>\n",
       "      <td>0.701192</td>\n",
       "      <td>0.716089</td>\n",
       "      <td>0.739077</td>\n",
       "      <td>0.667036</td>\n",
       "      <td>0.678836</td>\n",
       "      <td>0.714232</td>\n",
       "      <td>0.727929</td>\n",
       "      <td>0.753522</td>\n",
       "      <td>0.678836</td>\n",
       "    </tr>\n",
       "    <tr>\n",
       "      <th>4</th>\n",
       "      <td>lightgbm</td>\n",
       "      <td>0.635177</td>\n",
       "      <td>0.694380</td>\n",
       "      <td>0.720768</td>\n",
       "      <td>0.765758</td>\n",
       "      <td>0.635177</td>\n",
       "      <td>0.642470</td>\n",
       "      <td>0.698612</td>\n",
       "      <td>0.722357</td>\n",
       "      <td>0.765506</td>\n",
       "      <td>0.642470</td>\n",
       "    </tr>\n",
       "    <tr>\n",
       "      <th>0</th>\n",
       "      <td>logistic</td>\n",
       "      <td>0.609933</td>\n",
       "      <td>0.629558</td>\n",
       "      <td>0.641554</td>\n",
       "      <td>0.650525</td>\n",
       "      <td>0.609933</td>\n",
       "      <td>0.622790</td>\n",
       "      <td>0.640980</td>\n",
       "      <td>0.650571</td>\n",
       "      <td>0.660266</td>\n",
       "      <td>0.622790</td>\n",
       "    </tr>\n",
       "  </tbody>\n",
       "</table>\n",
       "</div>"
      ],
      "text/plain": [
       "           model  best_score        f1  accuracy  precision    recall  \\\n",
       "2  random_forest    0.687703  0.721413  0.734750   0.758623  0.687703   \n",
       "3        xgboost    0.670612  0.689982  0.699036   0.710583  0.670612   \n",
       "1           tree    0.667036  0.701192  0.716089   0.739077  0.667036   \n",
       "4       lightgbm    0.635177  0.694380  0.720768   0.765758  0.635177   \n",
       "0       logistic    0.609933  0.629558  0.641554   0.650525  0.609933   \n",
       "\n",
       "   test_best_score   test_f1  test_accuracy  test_precision  test_recall  \n",
       "2         0.692384  0.727450       0.740143        0.766256     0.692384  \n",
       "3         0.679835  0.702890       0.712143        0.727564     0.679835  \n",
       "1         0.678836  0.714232       0.727929        0.753522     0.678836  \n",
       "4         0.642470  0.698612       0.722357        0.765506     0.642470  \n",
       "0         0.622790  0.640980       0.650571        0.660266     0.622790  "
      ]
     },
     "execution_count": 5,
     "metadata": {},
     "output_type": "execute_result"
    }
   ],
   "source": [
    "medaid.models_ranking()"
   ]
  },
  {
   "cell_type": "code",
   "execution_count": 7,
   "id": "ac8f5b3d",
   "metadata": {},
   "outputs": [],
   "source": [
    "medaid.save()"
   ]
  },
  {
   "cell_type": "code",
   "execution_count": 6,
   "id": "46056d9e67a74a2f",
   "metadata": {},
   "outputs": [
    {
     "name": "stdout",
     "output_type": "stream",
     "text": [
      "c:\\Users\\Zosia\\Desktop\\autoML\\tests\\tests_training/medaid2\\medaid\\distribution_plots\n"
     ]
    },
    {
     "ename": "FileNotFoundError",
     "evalue": "[WinError 3] The system cannot find the path specified: 'c:\\\\Users\\\\Zosia\\\\Desktop\\\\autoML\\\\tests\\\\tests_training/medaid2\\\\medaid\\\\distribution_plots'",
     "output_type": "error",
     "traceback": [
      "\u001b[1;31m---------------------------------------------------------------------------\u001b[0m",
      "\u001b[1;31mFileNotFoundError\u001b[0m                         Traceback (most recent call last)",
      "Cell \u001b[1;32mIn[6], line 1\u001b[0m\n\u001b[1;32m----> 1\u001b[0m \u001b[43mmedaid\u001b[49m\u001b[38;5;241;43m.\u001b[39;49m\u001b[43mreport\u001b[49m\u001b[43m(\u001b[49m\u001b[43m)\u001b[49m\n",
      "File \u001b[1;32mc:\\Users\\Zosia\\.conda\\envs\\bhl\\Lib\\site-packages\\project\\do_poprawy_code\\medaid.py:148\u001b[0m, in \u001b[0;36mmedaid.report\u001b[1;34m(self)\u001b[0m\n\u001b[0;32m    147\u001b[0m \u001b[38;5;28;01mdef\u001b[39;00m \u001b[38;5;21mreport\u001b[39m(\u001b[38;5;28mself\u001b[39m):\n\u001b[1;32m--> 148\u001b[0m     \u001b[43mReporting\u001b[49m\u001b[43m(\u001b[49m\u001b[38;5;28;43mself\u001b[39;49m\u001b[43m,\u001b[49m\u001b[43m \u001b[49m\u001b[38;5;28;43mself\u001b[39;49m\u001b[38;5;241;43m.\u001b[39;49m\u001b[43mpath\u001b[49m\u001b[43m)\u001b[49m\u001b[38;5;241;43m.\u001b[39;49m\u001b[43mgenerate_report\u001b[49m\u001b[43m(\u001b[49m\u001b[43m)\u001b[49m\n",
      "File \u001b[1;32mc:\\Users\\Zosia\\.conda\\envs\\bhl\\Lib\\site-packages\\project\\reporting\\reporting.py:61\u001b[0m, in \u001b[0;36mReporting.generate_report\u001b[1;34m(self)\u001b[0m\n\u001b[0;32m     59\u001b[0m plots_path \u001b[38;5;241m=\u001b[39m os\u001b[38;5;241m.\u001b[39mpath\u001b[38;5;241m.\u001b[39mjoin(\u001b[38;5;28mself\u001b[39m\u001b[38;5;241m.\u001b[39mpath, \u001b[38;5;124m'\u001b[39m\u001b[38;5;124mmedaid\u001b[39m\u001b[38;5;124m'\u001b[39m, \u001b[38;5;124m'\u001b[39m\u001b[38;5;124mdistribution_plots\u001b[39m\u001b[38;5;124m'\u001b[39m)\n\u001b[0;32m     60\u001b[0m \u001b[38;5;28mprint\u001b[39m(plots_path)\n\u001b[1;32m---> 61\u001b[0m \u001b[38;5;28;01mfor\u001b[39;00m plot_file \u001b[38;5;129;01min\u001b[39;00m os\u001b[38;5;241m.\u001b[39mlistdir(plots_path):\n\u001b[0;32m     62\u001b[0m     \u001b[38;5;28;01mif\u001b[39;00m plot_file\u001b[38;5;241m.\u001b[39mendswith(\u001b[38;5;124m'\u001b[39m\u001b[38;5;124m.png\u001b[39m\u001b[38;5;124m'\u001b[39m):\n\u001b[0;32m     63\u001b[0m         plot_path \u001b[38;5;241m=\u001b[39m \u001b[38;5;124mf\u001b[39m\u001b[38;5;124m'\u001b[39m\u001b[38;5;124m../medaid/distribution_plots/\u001b[39m\u001b[38;5;132;01m{\u001b[39;00mplot_file\u001b[38;5;132;01m}\u001b[39;00m\u001b[38;5;124m'\u001b[39m\n",
      "\u001b[1;31mFileNotFoundError\u001b[0m: [WinError 3] The system cannot find the path specified: 'c:\\\\Users\\\\Zosia\\\\Desktop\\\\autoML\\\\tests\\\\tests_training/medaid2\\\\medaid\\\\distribution_plots'"
     ]
    }
   ],
   "source": [
    "medaid.report()"
   ]
  }
 ],
 "metadata": {
  "kernelspec": {
   "display_name": "bhl",
   "language": "python",
   "name": "python3"
  },
  "language_info": {
   "codemirror_mode": {
    "name": "ipython",
    "version": 3
   },
   "file_extension": ".py",
   "mimetype": "text/x-python",
   "name": "python",
   "nbconvert_exporter": "python",
   "pygments_lexer": "ipython3",
   "version": "3.11.10"
  }
 },
 "nbformat": 4,
 "nbformat_minor": 5
}
