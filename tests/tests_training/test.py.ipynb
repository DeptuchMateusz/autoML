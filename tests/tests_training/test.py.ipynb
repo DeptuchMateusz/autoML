{
 "cells": [
  {
   "cell_type": "code",
   "id": "initial_id",
   "metadata": {
    "collapsed": true,
    "ExecuteTime": {
     "end_time": "2025-01-11T18:23:07.470996Z",
     "start_time": "2025-01-11T18:23:02.589139Z"
    }
   },
   "source": "from medaid.training.medaid import medaid",
   "outputs": [],
   "execution_count": 1
  },
  {
   "cell_type": "code",
   "id": "8243f11973c5512c",
   "metadata": {
    "ExecuteTime": {
     "end_time": "2025-01-11T18:23:10.732788Z",
     "start_time": "2025-01-11T18:23:09.319537Z"
    }
   },
   "source": [
    "medaid = medaid(dataset_path='../../data/binary/cardio_train.csv', target_column='cardio', metric=\"recall\", search=\"random\", n_iter=1)"
   ],
   "outputs": [],
   "execution_count": 2
  },
  {
   "cell_type": "code",
   "id": "b2b2687a3fa8c112",
   "metadata": {
    "ExecuteTime": {
     "end_time": "2025-01-11T18:23:12.154364Z",
     "start_time": "2025-01-11T18:23:12.142679Z"
    }
   },
   "source": [
    "medaid.path"
   ],
   "outputs": [
    {
     "data": {
      "text/plain": [
       "'C:\\\\Users\\\\Zosia\\\\Desktop\\\\autoML\\\\tests\\\\tests_training/medaid'"
      ]
     },
     "execution_count": 3,
     "metadata": {},
     "output_type": "execute_result"
    }
   ],
   "execution_count": 3
  },
  {
   "cell_type": "code",
   "id": "6728077c44394465",
   "metadata": {
    "jupyter": {
     "is_executing": true
    },
    "ExecuteTime": {
     "start_time": "2025-01-11T18:23:14.579021Z"
    }
   },
   "source": [
    "medaid.train()"
   ],
   "outputs": [
    {
     "name": "stderr",
     "output_type": "stream",
     "text": [
      "logistic progress: 100%|██████████| 1/1 [00:01<00:00,  1.63s/it]\n",
      "tree progress: 100%|██████████| 1/1 [00:00<00:00,  1.76it/s]\n",
      "random_forest progress: 100%|██████████| 1/1 [00:33<00:00, 33.65s/it]\n",
      "xgboost progress: 100%|██████████| 1/1 [00:01<00:00,  1.03s/it]\n",
      "lightgbm progress:   0%|          | 0/1 [00:00<?, ?it/s]  File \"C:\\Users\\Zosia\\.conda\\envs\\bhl\\Lib\\site-packages\\joblib\\externals\\loky\\backend\\context.py\", line 282, in _count_physical_cores\n",
      "    raise ValueError(f\"found {cpu_count_physical} physical cores < 1\")\n",
      "lightgbm progress: 100%|██████████| 1/1 [00:00<00:00,  1.92it/s]\n",
      "C:\\Users\\Zosia\\Desktop\\autoML\\project\\reporting\\plots.py:62: RuntimeWarning: More than 20 figures have been opened. Figures created through the pyplot interface (`matplotlib.pyplot.figure`) are retained until explicitly closed and may consume too much memory. (To control this warning, see the rcParam `figure.max_open_warning`). Consider using `matplotlib.pyplot.close()`.\n"
     ]
    }
   ],
   "execution_count": null
  },
  {
   "cell_type": "code",
   "execution_count": 5,
   "id": "414a2c2333e5b2fa",
   "metadata": {},
   "outputs": [
    {
     "data": {
      "text/html": [
       "<div>\n",
       "<style scoped>\n",
       "    .dataframe tbody tr th:only-of-type {\n",
       "        vertical-align: middle;\n",
       "    }\n",
       "\n",
       "    .dataframe tbody tr th {\n",
       "        vertical-align: top;\n",
       "    }\n",
       "\n",
       "    .dataframe thead th {\n",
       "        text-align: right;\n",
       "    }\n",
       "</style>\n",
       "<table border=\"1\" class=\"dataframe\">\n",
       "  <thead>\n",
       "    <tr style=\"text-align: right;\">\n",
       "      <th></th>\n",
       "      <th>model</th>\n",
       "      <th>best_score</th>\n",
       "      <th>f1</th>\n",
       "      <th>accuracy</th>\n",
       "      <th>precision</th>\n",
       "      <th>recall</th>\n",
       "      <th>test_best_score</th>\n",
       "      <th>test_f1</th>\n",
       "      <th>test_accuracy</th>\n",
       "      <th>test_precision</th>\n",
       "      <th>test_recall</th>\n",
       "    </tr>\n",
       "  </thead>\n",
       "  <tbody>\n",
       "    <tr>\n",
       "      <th>2</th>\n",
       "      <td>random_forest</td>\n",
       "      <td>0.687703</td>\n",
       "      <td>0.721413</td>\n",
       "      <td>0.734750</td>\n",
       "      <td>0.758623</td>\n",
       "      <td>0.687703</td>\n",
       "      <td>0.692384</td>\n",
       "      <td>0.727450</td>\n",
       "      <td>0.740143</td>\n",
       "      <td>0.766256</td>\n",
       "      <td>0.692384</td>\n",
       "    </tr>\n",
       "    <tr>\n",
       "      <th>3</th>\n",
       "      <td>xgboost</td>\n",
       "      <td>0.670612</td>\n",
       "      <td>0.689982</td>\n",
       "      <td>0.699036</td>\n",
       "      <td>0.710583</td>\n",
       "      <td>0.670612</td>\n",
       "      <td>0.679835</td>\n",
       "      <td>0.702890</td>\n",
       "      <td>0.712143</td>\n",
       "      <td>0.727564</td>\n",
       "      <td>0.679835</td>\n",
       "    </tr>\n",
       "    <tr>\n",
       "      <th>1</th>\n",
       "      <td>tree</td>\n",
       "      <td>0.667036</td>\n",
       "      <td>0.701192</td>\n",
       "      <td>0.716089</td>\n",
       "      <td>0.739077</td>\n",
       "      <td>0.667036</td>\n",
       "      <td>0.678836</td>\n",
       "      <td>0.714232</td>\n",
       "      <td>0.727929</td>\n",
       "      <td>0.753522</td>\n",
       "      <td>0.678836</td>\n",
       "    </tr>\n",
       "    <tr>\n",
       "      <th>4</th>\n",
       "      <td>lightgbm</td>\n",
       "      <td>0.635177</td>\n",
       "      <td>0.694380</td>\n",
       "      <td>0.720768</td>\n",
       "      <td>0.765758</td>\n",
       "      <td>0.635177</td>\n",
       "      <td>0.642470</td>\n",
       "      <td>0.698612</td>\n",
       "      <td>0.722357</td>\n",
       "      <td>0.765506</td>\n",
       "      <td>0.642470</td>\n",
       "    </tr>\n",
       "    <tr>\n",
       "      <th>0</th>\n",
       "      <td>logistic</td>\n",
       "      <td>0.609933</td>\n",
       "      <td>0.629558</td>\n",
       "      <td>0.641554</td>\n",
       "      <td>0.650525</td>\n",
       "      <td>0.609933</td>\n",
       "      <td>0.622790</td>\n",
       "      <td>0.640980</td>\n",
       "      <td>0.650571</td>\n",
       "      <td>0.660266</td>\n",
       "      <td>0.622790</td>\n",
       "    </tr>\n",
       "  </tbody>\n",
       "</table>\n",
       "</div>"
      ],
      "text/plain": [
       "           model  best_score        f1  accuracy  precision    recall  \\\n",
       "2  random_forest    0.687703  0.721413  0.734750   0.758623  0.687703   \n",
       "3        xgboost    0.670612  0.689982  0.699036   0.710583  0.670612   \n",
       "1           tree    0.667036  0.701192  0.716089   0.739077  0.667036   \n",
       "4       lightgbm    0.635177  0.694380  0.720768   0.765758  0.635177   \n",
       "0       logistic    0.609933  0.629558  0.641554   0.650525  0.609933   \n",
       "\n",
       "   test_best_score   test_f1  test_accuracy  test_precision  test_recall  \n",
       "2         0.692384  0.727450       0.740143        0.766256     0.692384  \n",
       "3         0.679835  0.702890       0.712143        0.727564     0.679835  \n",
       "1         0.678836  0.714232       0.727929        0.753522     0.678836  \n",
       "4         0.642470  0.698612       0.722357        0.765506     0.642470  \n",
       "0         0.622790  0.640980       0.650571        0.660266     0.622790  "
      ]
     },
     "execution_count": 5,
     "metadata": {},
     "output_type": "execute_result"
    }
   ],
   "source": [
    "medaid.models_ranking()"
   ]
  },
  {
   "cell_type": "code",
   "execution_count": 7,
   "id": "ac8f5b3d",
   "metadata": {},
   "outputs": [],
   "source": [
    "medaid.save()"
   ]
  },
  {
   "cell_type": "code",
   "execution_count": 6,
   "id": "46056d9e67a74a2f",
   "metadata": {},
   "outputs": [
    {
     "name": "stdout",
     "output_type": "stream",
     "text": [
      "c:\\Users\\Zosia\\Desktop\\autoML\\tests\\tests_training/medaid2\\medaid\\distribution_plots\n"
     ]
    },
    {
     "ename": "FileNotFoundError",
     "evalue": "[WinError 3] The system cannot find the path specified: 'c:\\\\Users\\\\Zosia\\\\Desktop\\\\autoML\\\\tests\\\\tests_training/medaid2\\\\medaid\\\\distribution_plots'",
     "output_type": "error",
     "traceback": [
      "\u001B[1;31m---------------------------------------------------------------------------\u001B[0m",
      "\u001B[1;31mFileNotFoundError\u001B[0m                         Traceback (most recent call last)",
      "Cell \u001B[1;32mIn[6], line 1\u001B[0m\n\u001B[1;32m----> 1\u001B[0m \u001B[43mmedaid\u001B[49m\u001B[38;5;241;43m.\u001B[39;49m\u001B[43mreport\u001B[49m\u001B[43m(\u001B[49m\u001B[43m)\u001B[49m\n",
      "File \u001B[1;32mc:\\Users\\Zosia\\.conda\\envs\\bhl\\Lib\\site-packages\\project\\do_poprawy_code\\medaid.py:148\u001B[0m, in \u001B[0;36mmedaid.report\u001B[1;34m(self)\u001B[0m\n\u001B[0;32m    147\u001B[0m \u001B[38;5;28;01mdef\u001B[39;00m \u001B[38;5;21mreport\u001B[39m(\u001B[38;5;28mself\u001B[39m):\n\u001B[1;32m--> 148\u001B[0m     \u001B[43mReporting\u001B[49m\u001B[43m(\u001B[49m\u001B[38;5;28;43mself\u001B[39;49m\u001B[43m,\u001B[49m\u001B[43m \u001B[49m\u001B[38;5;28;43mself\u001B[39;49m\u001B[38;5;241;43m.\u001B[39;49m\u001B[43mpath\u001B[49m\u001B[43m)\u001B[49m\u001B[38;5;241;43m.\u001B[39;49m\u001B[43mgenerate_report\u001B[49m\u001B[43m(\u001B[49m\u001B[43m)\u001B[49m\n",
      "File \u001B[1;32mc:\\Users\\Zosia\\.conda\\envs\\bhl\\Lib\\site-packages\\project\\reporting\\reporting.py:61\u001B[0m, in \u001B[0;36mReporting.generate_report\u001B[1;34m(self)\u001B[0m\n\u001B[0;32m     59\u001B[0m plots_path \u001B[38;5;241m=\u001B[39m os\u001B[38;5;241m.\u001B[39mpath\u001B[38;5;241m.\u001B[39mjoin(\u001B[38;5;28mself\u001B[39m\u001B[38;5;241m.\u001B[39mpath, \u001B[38;5;124m'\u001B[39m\u001B[38;5;124mmedaid\u001B[39m\u001B[38;5;124m'\u001B[39m, \u001B[38;5;124m'\u001B[39m\u001B[38;5;124mdistribution_plots\u001B[39m\u001B[38;5;124m'\u001B[39m)\n\u001B[0;32m     60\u001B[0m \u001B[38;5;28mprint\u001B[39m(plots_path)\n\u001B[1;32m---> 61\u001B[0m \u001B[38;5;28;01mfor\u001B[39;00m plot_file \u001B[38;5;129;01min\u001B[39;00m os\u001B[38;5;241m.\u001B[39mlistdir(plots_path):\n\u001B[0;32m     62\u001B[0m     \u001B[38;5;28;01mif\u001B[39;00m plot_file\u001B[38;5;241m.\u001B[39mendswith(\u001B[38;5;124m'\u001B[39m\u001B[38;5;124m.png\u001B[39m\u001B[38;5;124m'\u001B[39m):\n\u001B[0;32m     63\u001B[0m         plot_path \u001B[38;5;241m=\u001B[39m \u001B[38;5;124mf\u001B[39m\u001B[38;5;124m'\u001B[39m\u001B[38;5;124m../medaid/distribution_plots/\u001B[39m\u001B[38;5;132;01m{\u001B[39;00mplot_file\u001B[38;5;132;01m}\u001B[39;00m\u001B[38;5;124m'\u001B[39m\n",
      "\u001B[1;31mFileNotFoundError\u001B[0m: [WinError 3] The system cannot find the path specified: 'c:\\\\Users\\\\Zosia\\\\Desktop\\\\autoML\\\\tests\\\\tests_training/medaid2\\\\medaid\\\\distribution_plots'"
     ]
    }
   ],
   "source": [
    "medaid.report()"
   ]
  }
 ],
 "metadata": {
  "kernelspec": {
   "display_name": "bhl",
   "language": "python",
   "name": "python3"
  },
  "language_info": {
   "codemirror_mode": {
    "name": "ipython",
    "version": 3
   },
   "file_extension": ".py",
   "mimetype": "text/x-python",
   "name": "python",
   "nbconvert_exporter": "python",
   "pygments_lexer": "ipython3",
   "version": "3.11.10"
  }
 },
 "nbformat": 4,
 "nbformat_minor": 5
}
