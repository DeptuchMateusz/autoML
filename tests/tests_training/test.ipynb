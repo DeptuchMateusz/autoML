{
 "cells": [
  {
   "cell_type": "code",
   "execution_count": 1,
   "id": "initial_id",
   "metadata": {
    "ExecuteTime": {
     "end_time": "2025-01-14T12:25:53.612699Z",
     "start_time": "2025-01-14T12:25:52.546719Z"
    },
    "collapsed": true
   },
   "outputs": [],
   "source": [
    "from medaid.medaid import MedAId"
   ]
  },
  {
   "cell_type": "code",
   "execution_count": 2,
   "id": "8243f11973c5512c",
   "metadata": {
    "ExecuteTime": {
     "end_time": "2025-01-14T12:25:54.650059Z",
     "start_time": "2025-01-14T12:25:54.043270Z"
    }
   },
   "outputs": [],
   "source": [
    "import warnings\n",
    "warnings.filterwarnings(\"ignore\", category=UserWarning, message=\".*ConvergenceWarning.*\")\n",
    "medaid = MedAId(dataset_path='../../data/multiclass/Obesity_Classification.csv', target_column=\"Label\", metric=\"recall\", search=\"random\", n_iter=10, n_jobs=-1)"
   ]
  },
  {
   "cell_type": "code",
   "execution_count": 3,
   "id": "6728077c44394465",
   "metadata": {
    "ExecuteTime": {
     "end_time": "2025-01-14T12:27:43.710810Z",
     "start_time": "2025-01-14T12:25:55.087411Z"
    }
   },
   "outputs": [
    {
     "name": "stderr",
     "output_type": "stream",
     "text": [
      "logistic progress: 100%|██████████| 10/10 [00:24<00:00,  2.48s/it]\n",
      "tree progress: 100%|██████████| 10/10 [00:00<00:00, 10.42it/s]\n",
      "random_forest progress: 100%|██████████| 10/10 [00:10<00:00,  1.10s/it]\n",
      "xgboost progress: 100%|██████████| 10/10 [00:08<00:00,  1.20it/s]\n",
      "lightgbm progress: 100%|██████████| 10/10 [00:17<00:00,  1.71s/it]\n"
     ]
    }
   ],
   "source": [
    "medaid.train()"
   ]
  },
  {
   "cell_type": "code",
   "execution_count": 7,
   "id": "ac8f5b3d",
   "metadata": {
    "ExecuteTime": {
     "end_time": "2025-01-13T20:14:58.864255Z",
     "start_time": "2025-01-13T20:14:58.764211Z"
    }
   },
   "outputs": [],
   "source": [
    "medaid.save()"
   ]
  },
  {
   "cell_type": "code",
   "execution_count": 4,
   "id": "46056d9e67a74a2f",
   "metadata": {
    "ExecuteTime": {
     "end_time": "2025-01-13T19:56:34.347037Z",
     "start_time": "2025-01-13T19:56:34.142714Z"
    }
   },
   "outputs": [],
   "source": [
    "medaid.report()"
   ]
  },
  {
   "cell_type": "code",
   "execution_count": 5,
   "id": "09dfa836",
   "metadata": {},
   "outputs": [],
   "source": [
    "medaid.predict_explain()"
   ]
  },
  {
   "cell_type": "code",
   "execution_count": null,
   "id": "6a0b85ec",
   "metadata": {},
   "outputs": [],
   "source": []
  }
 ],
 "metadata": {
  "kernelspec": {
   "display_name": "env_p11",
   "language": "python",
   "name": "python3"
  },
  "language_info": {
   "codemirror_mode": {
    "name": "ipython",
    "version": 3
   },
   "file_extension": ".py",
   "mimetype": "text/x-python",
   "name": "python",
   "nbconvert_exporter": "python",
   "pygments_lexer": "ipython3",
   "version": "3.11.10"
  }
 },
 "nbformat": 4,
 "nbformat_minor": 5
}
