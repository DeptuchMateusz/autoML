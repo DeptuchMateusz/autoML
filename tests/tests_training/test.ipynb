{
 "cells": [
  {
   "cell_type": "code",
   "execution_count": 4,
   "id": "initial_id",
   "metadata": {
    "ExecuteTime": {
     "end_time": "2025-01-14T12:25:53.612699Z",
     "start_time": "2025-01-14T12:25:52.546719Z"
    },
    "collapsed": true
   },
   "outputs": [],
   "source": [
    "from medaid.medaid import MedAId"
   ]
  },
  {
   "cell_type": "code",
   "execution_count": 5,
   "id": "8243f11973c5512c",
   "metadata": {
    "ExecuteTime": {
     "end_time": "2025-01-14T12:25:54.650059Z",
     "start_time": "2025-01-14T12:25:54.043270Z"
    }
   },
   "outputs": [],
   "source": [
    "import warnings\n",
    "warnings.filterwarnings(\"ignore\", category=UserWarning, message=\".*ConvergenceWarning.*\")\n",
    "medaid = MedAId(dataset_path='../../data/binary/heart_failure_clinical_records_dataset.csv', target_column=\"DEATH_EVENT\", metric=\"recall\", search=\"random\", n_iter=10, n_jobs=-1)"
   ]
  },
  {
   "cell_type": "code",
   "execution_count": 6,
   "id": "e9f62f88",
   "metadata": {},
   "outputs": [
    {
     "name": "stdout",
     "output_type": "stream",
     "text": [
      "None\n"
     ]
    },
    {
     "data": {
      "text/html": [
       "<div>\n",
       "<style scoped>\n",
       "    .dataframe tbody tr th:only-of-type {\n",
       "        vertical-align: middle;\n",
       "    }\n",
       "\n",
       "    .dataframe tbody tr th {\n",
       "        vertical-align: top;\n",
       "    }\n",
       "\n",
       "    .dataframe thead th {\n",
       "        text-align: right;\n",
       "    }\n",
       "</style>\n",
       "<table border=\"1\" class=\"dataframe\">\n",
       "  <thead>\n",
       "    <tr style=\"text-align: right;\">\n",
       "      <th></th>\n",
       "      <th>age</th>\n",
       "      <th>anaemia</th>\n",
       "      <th>creatinine_phosphokinase</th>\n",
       "      <th>diabetes</th>\n",
       "      <th>ejection_fraction</th>\n",
       "      <th>high_blood_pressure</th>\n",
       "      <th>platelets</th>\n",
       "      <th>serum_creatinine</th>\n",
       "      <th>serum_sodium</th>\n",
       "      <th>sex</th>\n",
       "      <th>smoking</th>\n",
       "      <th>time</th>\n",
       "      <th>DEATH_EVENT</th>\n",
       "    </tr>\n",
       "  </thead>\n",
       "  <tbody>\n",
       "    <tr>\n",
       "      <th>0</th>\n",
       "      <td>0.636364</td>\n",
       "      <td>0.0</td>\n",
       "      <td>0.071319</td>\n",
       "      <td>0.0</td>\n",
       "      <td>0.090909</td>\n",
       "      <td>1.0</td>\n",
       "      <td>0.290823</td>\n",
       "      <td>0.157303</td>\n",
       "      <td>0.485714</td>\n",
       "      <td>1.0</td>\n",
       "      <td>0.0</td>\n",
       "      <td>0.000000</td>\n",
       "      <td>1</td>\n",
       "    </tr>\n",
       "    <tr>\n",
       "      <th>1</th>\n",
       "      <td>0.272727</td>\n",
       "      <td>0.0</td>\n",
       "      <td>1.000000</td>\n",
       "      <td>0.0</td>\n",
       "      <td>0.363636</td>\n",
       "      <td>0.0</td>\n",
       "      <td>0.288833</td>\n",
       "      <td>0.067416</td>\n",
       "      <td>0.657143</td>\n",
       "      <td>1.0</td>\n",
       "      <td>0.0</td>\n",
       "      <td>0.007117</td>\n",
       "      <td>1</td>\n",
       "    </tr>\n",
       "    <tr>\n",
       "      <th>2</th>\n",
       "      <td>0.454545</td>\n",
       "      <td>0.0</td>\n",
       "      <td>0.015693</td>\n",
       "      <td>0.0</td>\n",
       "      <td>0.090909</td>\n",
       "      <td>0.0</td>\n",
       "      <td>0.165960</td>\n",
       "      <td>0.089888</td>\n",
       "      <td>0.457143</td>\n",
       "      <td>1.0</td>\n",
       "      <td>1.0</td>\n",
       "      <td>0.010676</td>\n",
       "      <td>1</td>\n",
       "    </tr>\n",
       "    <tr>\n",
       "      <th>3</th>\n",
       "      <td>0.181818</td>\n",
       "      <td>1.0</td>\n",
       "      <td>0.011227</td>\n",
       "      <td>0.0</td>\n",
       "      <td>0.090909</td>\n",
       "      <td>0.0</td>\n",
       "      <td>0.224148</td>\n",
       "      <td>0.157303</td>\n",
       "      <td>0.685714</td>\n",
       "      <td>1.0</td>\n",
       "      <td>0.0</td>\n",
       "      <td>0.010676</td>\n",
       "      <td>1</td>\n",
       "    </tr>\n",
       "    <tr>\n",
       "      <th>4</th>\n",
       "      <td>0.454545</td>\n",
       "      <td>1.0</td>\n",
       "      <td>0.017479</td>\n",
       "      <td>1.0</td>\n",
       "      <td>0.090909</td>\n",
       "      <td>0.0</td>\n",
       "      <td>0.365984</td>\n",
       "      <td>0.247191</td>\n",
       "      <td>0.085714</td>\n",
       "      <td>0.0</td>\n",
       "      <td>0.0</td>\n",
       "      <td>0.014235</td>\n",
       "      <td>1</td>\n",
       "    </tr>\n",
       "    <tr>\n",
       "      <th>...</th>\n",
       "      <td>...</td>\n",
       "      <td>...</td>\n",
       "      <td>...</td>\n",
       "      <td>...</td>\n",
       "      <td>...</td>\n",
       "      <td>...</td>\n",
       "      <td>...</td>\n",
       "      <td>...</td>\n",
       "      <td>...</td>\n",
       "      <td>...</td>\n",
       "      <td>...</td>\n",
       "      <td>...</td>\n",
       "      <td>...</td>\n",
       "    </tr>\n",
       "    <tr>\n",
       "      <th>294</th>\n",
       "      <td>0.400000</td>\n",
       "      <td>0.0</td>\n",
       "      <td>0.004848</td>\n",
       "      <td>1.0</td>\n",
       "      <td>0.363636</td>\n",
       "      <td>1.0</td>\n",
       "      <td>0.157474</td>\n",
       "      <td>0.067416</td>\n",
       "      <td>0.857143</td>\n",
       "      <td>1.0</td>\n",
       "      <td>1.0</td>\n",
       "      <td>0.946619</td>\n",
       "      <td>0</td>\n",
       "    </tr>\n",
       "    <tr>\n",
       "      <th>295</th>\n",
       "      <td>0.272727</td>\n",
       "      <td>0.0</td>\n",
       "      <td>0.229268</td>\n",
       "      <td>0.0</td>\n",
       "      <td>0.363636</td>\n",
       "      <td>0.0</td>\n",
       "      <td>0.296884</td>\n",
       "      <td>0.078652</td>\n",
       "      <td>0.742857</td>\n",
       "      <td>0.0</td>\n",
       "      <td>0.0</td>\n",
       "      <td>0.950178</td>\n",
       "      <td>0</td>\n",
       "    </tr>\n",
       "    <tr>\n",
       "      <th>296</th>\n",
       "      <td>0.090909</td>\n",
       "      <td>0.0</td>\n",
       "      <td>0.259888</td>\n",
       "      <td>1.0</td>\n",
       "      <td>0.696970</td>\n",
       "      <td>0.0</td>\n",
       "      <td>0.869075</td>\n",
       "      <td>0.033708</td>\n",
       "      <td>0.714286</td>\n",
       "      <td>0.0</td>\n",
       "      <td>0.0</td>\n",
       "      <td>0.975089</td>\n",
       "      <td>0</td>\n",
       "    </tr>\n",
       "    <tr>\n",
       "      <th>297</th>\n",
       "      <td>0.090909</td>\n",
       "      <td>0.0</td>\n",
       "      <td>0.304925</td>\n",
       "      <td>0.0</td>\n",
       "      <td>0.363636</td>\n",
       "      <td>0.0</td>\n",
       "      <td>0.139290</td>\n",
       "      <td>0.101124</td>\n",
       "      <td>0.771429</td>\n",
       "      <td>1.0</td>\n",
       "      <td>1.0</td>\n",
       "      <td>0.982206</td>\n",
       "      <td>0</td>\n",
       "    </tr>\n",
       "    <tr>\n",
       "      <th>298</th>\n",
       "      <td>0.181818</td>\n",
       "      <td>0.0</td>\n",
       "      <td>0.022072</td>\n",
       "      <td>0.0</td>\n",
       "      <td>0.469697</td>\n",
       "      <td>0.0</td>\n",
       "      <td>0.448418</td>\n",
       "      <td>0.123596</td>\n",
       "      <td>0.657143</td>\n",
       "      <td>1.0</td>\n",
       "      <td>1.0</td>\n",
       "      <td>1.000000</td>\n",
       "      <td>0</td>\n",
       "    </tr>\n",
       "  </tbody>\n",
       "</table>\n",
       "<p>299 rows × 13 columns</p>\n",
       "</div>"
      ],
      "text/plain": [
       "          age  anaemia  creatinine_phosphokinase  diabetes  ejection_fraction  \\\n",
       "0    0.636364      0.0                  0.071319       0.0           0.090909   \n",
       "1    0.272727      0.0                  1.000000       0.0           0.363636   \n",
       "2    0.454545      0.0                  0.015693       0.0           0.090909   \n",
       "3    0.181818      1.0                  0.011227       0.0           0.090909   \n",
       "4    0.454545      1.0                  0.017479       1.0           0.090909   \n",
       "..        ...      ...                       ...       ...                ...   \n",
       "294  0.400000      0.0                  0.004848       1.0           0.363636   \n",
       "295  0.272727      0.0                  0.229268       0.0           0.363636   \n",
       "296  0.090909      0.0                  0.259888       1.0           0.696970   \n",
       "297  0.090909      0.0                  0.304925       0.0           0.363636   \n",
       "298  0.181818      0.0                  0.022072       0.0           0.469697   \n",
       "\n",
       "     high_blood_pressure  platelets  serum_creatinine  serum_sodium  sex  \\\n",
       "0                    1.0   0.290823          0.157303      0.485714  1.0   \n",
       "1                    0.0   0.288833          0.067416      0.657143  1.0   \n",
       "2                    0.0   0.165960          0.089888      0.457143  1.0   \n",
       "3                    0.0   0.224148          0.157303      0.685714  1.0   \n",
       "4                    0.0   0.365984          0.247191      0.085714  0.0   \n",
       "..                   ...        ...               ...           ...  ...   \n",
       "294                  1.0   0.157474          0.067416      0.857143  1.0   \n",
       "295                  0.0   0.296884          0.078652      0.742857  0.0   \n",
       "296                  0.0   0.869075          0.033708      0.714286  0.0   \n",
       "297                  0.0   0.139290          0.101124      0.771429  1.0   \n",
       "298                  0.0   0.448418          0.123596      0.657143  1.0   \n",
       "\n",
       "     smoking      time  DEATH_EVENT  \n",
       "0        0.0  0.000000            1  \n",
       "1        0.0  0.007117            1  \n",
       "2        1.0  0.010676            1  \n",
       "3        0.0  0.010676            1  \n",
       "4        0.0  0.014235            1  \n",
       "..       ...       ...          ...  \n",
       "294      1.0  0.946619            0  \n",
       "295      0.0  0.950178            0  \n",
       "296      0.0  0.975089            0  \n",
       "297      1.0  0.982206            0  \n",
       "298      1.0  1.000000            0  \n",
       "\n",
       "[299 rows x 13 columns]"
      ]
     },
     "execution_count": 6,
     "metadata": {},
     "output_type": "execute_result"
    }
   ],
   "source": [
    "medaid.preprocess()"
   ]
  },
  {
   "cell_type": "code",
   "execution_count": 8,
   "id": "9d28539e",
   "metadata": {},
   "outputs": [
    {
     "name": "stdout",
     "output_type": "stream",
     "text": [
      "None\n"
     ]
    }
   ],
   "source": [
    "print(medaid.y_labels)"
   ]
  },
  {
   "cell_type": "code",
   "execution_count": 7,
   "id": "6728077c44394465",
   "metadata": {
    "ExecuteTime": {
     "end_time": "2025-01-14T12:27:43.710810Z",
     "start_time": "2025-01-14T12:25:55.087411Z"
    }
   },
   "outputs": [
    {
     "name": "stdout",
     "output_type": "stream",
     "text": [
      "None\n"
     ]
    },
    {
     "name": "stderr",
     "output_type": "stream",
     "text": [
      "logistic progress: 100%|██████████| 10/10 [00:22<00:00,  2.26s/it]\n",
      "tree progress: 100%|██████████| 10/10 [00:00<00:00, 13.11it/s]\n",
      "random_forest progress: 100%|██████████| 10/10 [00:15<00:00,  1.52s/it]\n",
      "xgboost progress: 100%|██████████| 10/10 [00:05<00:00,  1.90it/s]\n",
      "lightgbm progress: 100%|██████████| 10/10 [00:15<00:00,  1.59s/it]\n"
     ]
    },
    {
     "name": "stdout",
     "output_type": "stream",
     "text": [
      "\n",
      "Finishing up...\n",
      "\n",
      "==========  Training complete  ==========\n"
     ]
    }
   ],
   "source": [
    "medaid.train()"
   ]
  },
  {
   "cell_type": "code",
   "execution_count": 7,
   "id": "ac8f5b3d",
   "metadata": {
    "ExecuteTime": {
     "end_time": "2025-01-13T20:14:58.864255Z",
     "start_time": "2025-01-13T20:14:58.764211Z"
    }
   },
   "outputs": [],
   "source": [
    "medaid.save()"
   ]
  },
  {
   "cell_type": "code",
   "execution_count": 4,
   "id": "46056d9e67a74a2f",
   "metadata": {
    "ExecuteTime": {
     "end_time": "2025-01-13T19:56:34.347037Z",
     "start_time": "2025-01-13T19:56:34.142714Z"
    }
   },
   "outputs": [],
   "source": [
    "medaid.report()"
   ]
  },
  {
   "cell_type": "code",
   "execution_count": 5,
   "id": "09dfa836",
   "metadata": {},
   "outputs": [],
   "source": [
    "medaid.predict_explain()"
   ]
  },
  {
   "cell_type": "code",
   "execution_count": null,
   "id": "6a0b85ec",
   "metadata": {},
   "outputs": [],
   "source": []
  }
 ],
 "metadata": {
  "kernelspec": {
   "display_name": "env_p11",
   "language": "python",
   "name": "python3"
  },
  "language_info": {
   "codemirror_mode": {
    "name": "ipython",
    "version": 3
   },
   "file_extension": ".py",
   "mimetype": "text/x-python",
   "name": "python",
   "nbconvert_exporter": "python",
   "pygments_lexer": "ipython3",
   "version": "3.11.10"
  }
 },
 "nbformat": 4,
 "nbformat_minor": 5
}
