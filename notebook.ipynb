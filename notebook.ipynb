{
 "cells": [
  {
   "metadata": {},
   "cell_type": "markdown",
   "source": [
    "# MedAId \n",
    "## Paczka umożliwiająca przewidywanie Stanu Pacjentów za Pomocą Narzędzi Klasyfikacyjnych \n",
    "#### Autorzy: Zofia Kamińska, Mateusz Deptuch, Karolina Dunal\n",
    "### Specyfikacja Narzędzia\n",
    "Nasze narzędzie jest stworzone z myślą o lekarzach, aby wspomóc ich w procesie podejmowania decyzji medycznych. Głównym celem jest analiza tabelarycznych danych pacjentów, takich jak wiek, waga, poziom cholesterolu, itp., w celu przewidywania:\n",
    "- Czy pacjent ma daną chorobę (klasyfikacja binarna).\n",
    "- Poziomu zaawansowania choroby (klasyfikacja wieloklasowa).\n",
    "- Ryzyka zgonu pacjenta (klasyfikacja binarna).\n",
    "\n",
    "### Kluczowe Funkcjonalności\n",
    "- Obsługa zarówno klasyfikacji binarnej, jak i wieloklasowej.\n",
    "- Zautomatyzowane przetwarzanie danych: oczyszczanie, analiza wstępna i przygotowanie cech.\n",
    "- Interpretacja wyników modeli za pomocą narzędzi takich jak SHAP.\n",
    "- Porównanie wyników różnych modeli ML z różnymi metrykami (np. dokładność, ROC-AUC, czułość, specyficzność).\n",
    "\n",
    "### Grupa Docelowa\n",
    "Grupą docelową są lekarze i personel medyczny. Narzędzie jest przeznaczone dla użytkowników, którzy:\n",
    "- Chcą wykorzystać dane pacjentów w celu lepszego podejmowania decyzji medycznych.\n",
    "- Nie posiadają zaawansowanej wiedzy z zakresu programowania czy uczenia maszynowego.\n",
    "- Potrzebują intuicyjnych wizualizacji i interpretacji wyników modeli.\n",
    "\n"
   ],
   "id": "891f858402018045"
  },
  {
   "metadata": {},
   "cell_type": "markdown",
   "source": [
    "# Przegląd Istniejących Rozwiązań\n",
    "Poniżej przedstawiono istniejące narzędzia o podobnej funkcjonalności:\n",
    "\n",
    "### 1. Pharm-AutoML\n",
    "- **Opis**: Narzędzie skoncentrowane na analizie danych biomedycznych z użyciem AutoML. Umożliwia analizę genomu, farmakogenomiki i danych biomarkerów.\n",
    "- **Zalety**: Specjalizacja w biomedycynie, zintegrowane modele biomarkerowe.\n",
    "- **Ograniczenia**: Ograniczona aplikacja do tabelarycznych danych klinicznych.\n",
    "\n",
    "### 2. Cardea (MIT)\n",
    "- **Opis**: Platforma uczenia maszynowego skupiona na przewidywaniu wyników pacjentów na podstawie danych klinicznych, takich jak elektroniczne kartoteki zdrowotne (EHR).\n",
    "- **Zalety**: Doskonała integracja z EHR, zastosowanie zaawansowanych modeli.\n",
    "- **Ograniczenia**: Skupienie na EHR może utrudnić zastosowanie w prostych danych tabelarycznych.\n",
    "\n",
    "### 3. MLJAR\n",
    "- **Opis**: Narzędzie AutoML obsługujące dane tabelaryczne w wielu dziedzinach, w tym medycynie.\n",
    "- **Zalety**: Uniwersalność, przyjazne raporty, intuicyjne w obsłudze.\n",
    "- **Ograniczenia**: Brak medycznej specjalizacji, co może wpłynąć na interpretowalność w kontekście klinicznym.\n",
    "\n",
    "### Porównanie z Naszym Narzędziem\n",
    "Nasze narzędzie jest unikalne dzięki specjalizacji w medycynie. W przeciwieństwie do MLJAR, nasze wyniki są dostosowane do potrzeb lekarzy. Różnimy się też od Cardea i Pharm-AutoML, które mają węższy zakres zastosowań.\n"
   ],
   "id": "2c5d3ad7be90ddd2"
  },
  {
   "metadata": {},
   "cell_type": "markdown",
   "source": [
    "## Architektura Narzędzia\n",
    "### Struktura folderów:\n",
    "- `data/` - dane wejściowe\n",
    "- `medaid/` - kod źródłowy narzędzia\n",
    "- `tests/` - testy jednostkowe\n",
    "\n",
    "## Przepływ Przetwarzania Danych:\n",
    "### Paczka MedAId składa się z trzech głównych komponentów:\n",
    "1. **Przetwarzanie Danych** (`preprocessing)/`: Wczytywanie danych, oczyszczanie, kodowanie zmiennych kategorycznych, podział na zbiór treningowy i testowy. **(można bardzije szczegółowo opisać)**\n",
    "2. **Modelowanie**(`training/`): Tworzenie modeli klasyfikacyjnych, trenowanie, ocena i porównanie modeli, zapisanie modeli do pliku. **(można bardzije szczegółowo opisać)**\n",
    "3. **Interpretacja Wyników**(`reporting/`): Tworzenie wizualizacji wyników modeli, generowanie raportu, analiza SHAP, porównanie metryk. **(można bardzije szczegółowo opisać)**"
   ],
   "id": "dcd32d103b8c022b"
  },
  {
   "metadata": {},
   "cell_type": "markdown",
   "source": [
    "## Opis obiektu klasy medaid\n",
    "#### Atrybuty: **do uzupełnienia**\n",
    "#### Metody: **do uzupełnienia**"
   ],
   "id": "abb463433139b2ee"
  },
  {
   "metadata": {},
   "cell_type": "markdown",
   "source": "### Przykładowe Użycie - do uzupełnienia\n",
   "id": "eef000550ff85a24"
  },
  {
   "metadata": {},
   "cell_type": "markdown",
   "source": "",
   "id": "ad1f19231975a0e6"
  }
 ],
 "metadata": {
  "kernelspec": {
   "display_name": "Python 3",
   "language": "python",
   "name": "python3"
  },
  "language_info": {
   "codemirror_mode": {
    "name": "ipython",
    "version": 2
   },
   "file_extension": ".py",
   "mimetype": "text/x-python",
   "name": "python",
   "nbconvert_exporter": "python",
   "pygments_lexer": "ipython2",
   "version": "2.7.6"
  }
 },
 "nbformat": 4,
 "nbformat_minor": 5
}
