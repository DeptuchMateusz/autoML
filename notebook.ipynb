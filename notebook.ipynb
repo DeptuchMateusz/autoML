{
 "cells": [
  {
   "cell_type": "markdown",
   "id": "891f858402018045",
   "metadata": {},
   "source": [
    "# MedAId \n",
    "## Paczka umożliwiająca przewidywanie Stanu Pacjentów za Pomocą Narzędzi Klasyfikacyjnych \n",
    "#### Autorzy: Zofia Kamińska, Mateusz Deptuch, Karolina Dunal\n",
    "### Specyfikacja Narzędzia\n",
    "Nasze narzędzie jest stworzone z myślą o lekarzach, aby wspomóc ich w procesie podejmowania decyzji medycznych. Głównym celem jest analiza tabelarycznych danych pacjentów, takich jak wiek, waga, poziom cholesterolu, itp., w celu przewidywania:\n",
    "- Czy pacjent ma daną chorobę (klasyfikacja binarna).\n",
    "- Poziomu zaawansowania choroby (klasyfikacja wieloklasowa).\n",
    "- Ryzyka zgonu pacjenta (klasyfikacja binarna).\n",
    "\n",
    "### Kluczowe Funkcjonalności\n",
    "- Obsługa zarówno klasyfikacji binarnej, jak i wieloklasowej.\n",
    "- Zautomatyzowane przetwarzanie danych: oczyszczanie, analiza wstępna i przygotowanie cech.\n",
    "- Interpretacja wyników modeli za pomocą narzędzi takich jak SHAP.\n",
    "- Porównanie wyników różnych modeli ML z różnymi metrykami (np. dokładność, ROC-AUC, czułość, specyficzność).\n",
    "\n",
    "### Grupa Docelowa\n",
    "Grupą docelową są lekarze i personel medyczny. Narzędzie jest przeznaczone dla użytkowników, którzy:\n",
    "- Chcą wykorzystać dane pacjentów w celu lepszego podejmowania decyzji medycznych.\n",
    "- Nie posiadają zaawansowanej wiedzy z zakresu programowania czy uczenia maszynowego.\n",
    "- Potrzebują intuicyjnych wizualizacji i interpretacji wyników modeli.\n",
    "\n"
   ]
  },
  {
   "cell_type": "markdown",
   "id": "2c5d3ad7be90ddd2",
   "metadata": {},
   "source": [
    "# Przegląd Istniejących Rozwiązań\n",
    "Poniżej przedstawiono istniejące narzędzia o podobnej funkcjonalności:\n",
    "\n",
    "### 1. Pharm-AutoML\n",
    "- **Opis**: Narzędzie skoncentrowane na analizie danych biomedycznych z użyciem AutoML. Umożliwia analizę genomu, farmakogenomiki i danych biomarkerów.\n",
    "- **Zalety**: Specjalizacja w biomedycynie, zintegrowane modele biomarkerowe.\n",
    "- **Ograniczenia**: Ograniczona aplikacja do tabelarycznych danych klinicznych.\n",
    "\n",
    "### 2. Cardea (MIT)\n",
    "- **Opis**: Platforma uczenia maszynowego skupiona na przewidywaniu wyników pacjentów na podstawie danych klinicznych, takich jak elektroniczne kartoteki zdrowotne (EHR).\n",
    "- **Zalety**: Doskonała integracja z EHR, zastosowanie zaawansowanych modeli.\n",
    "- **Ograniczenia**: Skupienie na EHR może utrudnić zastosowanie w prostych danych tabelarycznych.\n",
    "\n",
    "### 3. AutoPrognosis\n",
    "- **Opis**: AutoPrognosis to zaawansowana platforma AutoML, która automatycznie optymalizuje modele zdrowotne i przetwarza dane medyczne, oferując szeroki zakres analiz, w tym klasyfikację, regresję oraz analizę przeżycia. Umożliwia pełną personalizację procesów i wybór algorytmów.\n",
    "- **Zalety**: Oferuje zaawansowane możliwości i dużą elastyczność, wspiera różnorodne modele i dostarcza narzędzia interpretacyjne, co czyni go idealnym rozwiązaniem dla specjalistów z zaawansowanymi potrzebami.\n",
    "- **Ograniczenia**: Choć ma szerokie możliwości, jego obsługa jest bardziej skomplikowana i wymaga większej wiedzy technicznej, co może czasem być wyzwaniem w praktyce.\n",
    "\n",
    "### 4. MLJAR\n",
    "- **Opis**: Narzędzie AutoML obsługujące dane tabelaryczne w wielu dziedzinach, w tym medycynie.\n",
    "- **Zalety**: Uniwersalność, przyjazne raporty, intuicyjne w obsłudze.\n",
    "- **Ograniczenia**: Brak medycznej specjalizacji, co może wpłynąć na interpretowalność w kontekście klinicznym.\n",
    "\n",
    "### Porównanie z Naszym Narzędziem\n",
    "Nasze narzędzie jest unikalne dzięki prostocie obsługi, wymagając minimalnego kodowania, co sprawia, że jest idealne dla użytkowników bez zaawansowanej wiedzy technicznej, a także zoptymalizowane pod kątem medycznych danych tabelarycznych, co czyni je bardziej dostosowanym do analiz biomedycznych w porównaniu do bardziej ogólnych narzędzi W przeciwieństwie do MLJAR, nasze wyniki są dostosowane do potrzeb lekarzy. Różnimy się też od Cardea i Pharm-AutoML, które mają węższy zakres zastosowań. W porównaniu do AutoPrognosis, które oferuje więcej zaawansowanych funkcji i możliwości, nasze narzędzie jest prostsze w obsłudze i bardziej intuicyjne, co ułatwia jego wykorzystanie.\n"
   ]
  },
  {
   "cell_type": "markdown",
   "id": "dcd32d103b8c022b",
   "metadata": {},
   "source": [
    "## Architektura Narzędzia\n",
    "### Struktura folderów:\n",
    "- `data/` - dane wejściowe\n",
    "- `medaid/` - kod źródłowy narzędzia\n",
    "- `tests/` - testy jednostkowe\n",
    "\n",
    "## Przepływ Przetwarzania Danych:\n",
    "### Paczka MedAId składa się z trzech głównych komponentów:\n",
    "1. **Przetwarzanie Danych** (`preprocessing)/`: Wczytywanie danych, oczyszczanie, kodowanie zmiennych kategorycznych, podział na zbiór treningowy i testowy. **(można bardzije szczegółowo opisać)**\n",
    "\n",
    "2. **Modelowanie**(`training/`): Tworzenie modeli klasyfikacyjnych, trenowanie, ocena i porównanie modeli, zapisanie modeli do pliku. **(można bardzije szczegółowo opisać)**\n",
    "\n",
    "3. **Interpretacja Wyników**(`reporting/`): Tworzenie wizualizacji wyników modeli, generowanie raportu, analiza SHAP, porównanie metryk. \n",
    "\n",
    "\n"
   ]
  },
  {
   "metadata": {},
   "cell_type": "markdown",
   "source": [
    "### `training/`\n",
    "#### `medaid.py`:\n",
    "Moduł slużący do przeprowadzania treningu modeli i optymalizacji hipermarametrów.\n",
    "1. `__train(...)__`: tu dzieje się cały trening i optymalizacja hipermarametrów.\n",
    "2. `__search.py__`: definicje klas random i grid search, używanych przy trningu\n",
    "\n"
   ],
   "id": "320922a01c6350c3"
  },
  {
   "metadata": {},
   "cell_type": "markdown",
   "source": [
    "### `reporting/`\n",
    "#### `plots.py`:\n",
    "Moduł do generowania wizualizacji wspierających analizę wyników modeli zapisywane odpowiednio w folderach wewnątrz głownego folderu `medaid#`:\n",
    "1. **`distribution_plots(aid)`**: Tworzy histogramy i wykresy słupkowe dla zmiennych wejściowych.\n",
    "2. **`correlation_plot(aid)`**: Generuje macierz korelacji oraz wykresy zależności cech od celu.\n",
    "3. **`make_confusion_matrix(aid)`**: Tworzy macierze konfuzji na zbiorze testowym dla każdego modelu.\n",
    "4. **`shap_feature_importance_plot(aid)`**: Wizualizuje ważność cech na podstawie SHAP.\n",
    "5. **`generate_supertree_visualizations(medaid, output_dir)`**: Tworzy interaktywne wizualizacje SuperTree dla modeli.\n",
    "6. **`makeplots(aid)`**: Uruchamia wszystkie powyższe funkcje, generując komplet wizualizacji.\n",
    "\n",
    "#### `mainreporter.py`:\n",
    "Klasa `MainReporter` generuje raport w formacie HTML z wynikami analizy danych i modeli. Raport zawiera szczegóły na temat danych, preprocesingu, rozkładów cech, macierzy korelacji, wyników modeli oraz ich szczegółowej analizy. Wygenerowany raport znajduje się w folderze `reports/` wewnątrz folderu `medaid#`.\n",
    "\n",
    "1. **`__init__(self, aid, path)`**: Konstruktor inicjalizuje ścieżkę do folderu z wynikami oraz obiekt `aid` zawierający dane i modele.\n",
    "2. **`is_nan(value)`**: Funkcja pomocnicza do sprawdzania, czy wartość jest NaN.\n",
    "3. **`generate_report()`**: Generuje raport HTML, który zawiera:\n",
    "   - Podstawowe informacje o danych (liczba wierszy, kolumn, unikalne klasy celu).\n",
    "   - Podgląd danych (pierwsze wiersze DataFrame).\n",
    "   - Szczegóły preprocesingu z pliku CSV.\n",
    "   - Rozkłady cech na wykresach.\n",
    "   - Analizę korelacji cech z celem oraz pełną macierz korelacji.\n",
    "   - Szczegóły użytych modeli i ich wyników (m.in. Accuracy, Precision, Recall, F1).\n",
    "   - Szczegóły modeli (np. macierz konfuzji, ważność cech, wizualizacja drzewa).\n",
    "   - Wizualizację drzewa dla modeli `DecisionTree` i `RandomForest`.\n",
    "\n",
    "#### `predictexplain.py`:\n",
    "Klasa `PredictExplainer` generuje raport wyjaśniający prognozę modelu na podstawie danych wejściowych zapisywany w folderze `medaid#`.\n",
    "1. **`__init__(self, medaid, model)`**: Inicjalizuje klasę `PredictExplainer`, przypisując obiekt `medaid` oraz model, a także wczytuje szczegóły przetwarzania wstępnego z pliku CSV.\n",
    "2. **`preprocess_input_data(self, input_data)`**: Przetwarza dane wejściowe zgodnie z zapisanymi szczegółami przetwarzania, stosując kodowanie one-hot, etykietowanie, imputację i skalowanie na podstawie wcześniejszych ustawień.\n",
    "3. **`analyze_prediction(self, prediction, target_column, prediction_proba)`**: Analizuje przewidywaną wartość dla docelowej cechy, porównuje ją z rozkładem w zbiorze danych i generuje raport klasyfikacji z uwzględnieniem wykresu ważności cech (SHAP) w przypadku klasyfikacji.\n",
    "4. **`generate_html_report(self, df, input_data)`**: Korzystając z pozostałych funkcji eneruje raport HTML porównujący dane wejściowe z danymi w zbiorze, analizuje przewidywania i generuje wykresy interpretowalności modelu.\n",
    "5. **`generate_viz(self, input_data)`**: Generuje wizualizacje dla danych wejściowych przy użyciu SHAP (dla większości modeli) lub LIME (dla modeli opartych na drzewach decyzyjnych).\n",
    "6. **`generate_shap_viz(self, input_data)`**: Generuje wizualizacje SHAP, w tym wykres siły dla pojedynczej prognozy oraz wykres podsumowujący dla całego zbioru danych, zapisując je jako pliki.\n",
    "7. **`generate_lime_viz(self, input_data)`**: Generuje wizualizacje LIME dla danych wejściowych, zapisując wykres wyjaśnienia do pliku HTML.\n",
    "8. **`predict_target(input_data)`**: Przetwarza dane wejściowe, dokonuje predykcji za pomocą modelu, analizuje wynik i generuje wizualizacje SHAP/LIME w celu zwiększenia interpretowalności.\n",
    "9. **`classify_and_analyze_features(df, input_data)`**:  Klasyfikuje cechy na typy binarne, kategoryczne tekstowe, kategoryczne numeryczne i ciągłe numeryczne, a następnie dostarcza szczegółowe raporty HTML na podstawie ich charakterystyki.\n",
    "10. **`_analyze_binary(df, column, input_value)`**, **`_analyze_categorical_numbers(df, column, input_value)`**, **`_analyze_categorical_strings(df, column, input_value)`** oraz **`_analyze_numerical_continuous(df, column, input_value)`**: Generują treść HTML dla różnych typów cech (binarnych, kategorycznych numerycznych, kategorycznych tekstowych i ciągłych numerycznych), dostarczając szczegółowych informacji na temat wartości pacjenta, jej częstości w zbiorze danych oraz dodatkowych informacji statystycznych (takich jak porównania z średnią, medianą i odchyleniem standardowym dla cech ciągłych).\n",
    "\n",
    "\n",
    "\n",
    "\n"
   ],
   "id": "efa8ceb33807be3e"
  },
  {
   "cell_type": "markdown",
   "id": "abb463433139b2ee",
   "metadata": {},
   "source": [
    "## Opis obiektu klasy medaid\n",
    "Klasa będąca głównym obiektem narzędzia. Umożliwia ona wczytanie danych, przetworzenie ich, trenowanie modeli, zapisanie wyników oraz generowanie raportów.\n",
    "#### Metody:\n",
    "-  `__medaid()__` Konstruktor klasy MedAId, inicjalizuje obiekt z podanymi parametrami.\n",
    "    - dataset_path: ścieżka do pliku CSV z danymi.\n",
    "    - target_column: nazwa kolumny zawierającej zmienną celu.\n",
    "    - models: lista modeli do przetestowania (domyślnie [\"logistic\", \"tree\", \"random_forest\", \"xgboost\", \"lightgbm\"]).\n",
    "    - metric: metryka do optymalizacji (domyślnie F1, możliwe [ \"accuracy\", \"f1\", \"recall\", \"precision\"]).\n",
    "    - path: ścieżka do zapisu wyników.\n",
    "    - search: metoda optymalizacji hiperparametrów (domyślnie random).\n",
    "    - cv: liczba podziałów w walidacji krzyżowej (domyślnie 3).\n",
    "    - n_iter: liczba iteracji optymalizacji hiperparametrów (domyślnie 20).\n",
    "    - test_size: rozmiar zbioru testowego (domyślnie 0.2).\n",
    "    - n_jobs: liczba rdzeni procesora do użycia (domyślnie 1).\n",
    "- `train()` Funkcja trenująca modele na danych treningowych, zapisująca najlepsze modele oraz ich wyniki.\n",
    "- `save()` zapisuje modele do pliku medaid.pkl w folderze `medaid#/`. \n",
    "- `report()` wykonuję funkcję `generate_report()` z klasy `MainReporter` zwracającą raport w formacie HTML z wynikami analizy danych i modeli opisane w sekcji `reporting/`\n",
    "- `predict_explain(input_data, model)` generuje raport wyjaśniający prognozę modelu na podstawie danych wejściowych będących pojedynczym wierszem ramki danych (bez kolumny target).  Jeśli model lub dane wejściowe nie są podane, funkcja używa domyślnych wartości - pierwszego modelu z listy `best_models` oraz pierwszego wiersza z ramki danych."
   ]
  },
  {
   "cell_type": "markdown",
   "id": "eef000550ff85a24",
   "metadata": {},
   "source": "### Przykładowe Użycie\n"
  },
  {
   "metadata": {
    "ExecuteTime": {
     "end_time": "2025-01-15T21:17:50.440438Z",
     "start_time": "2025-01-15T21:17:48.808706Z"
    }
   },
   "cell_type": "code",
   "source": "from medaid.medaid import MedAId",
   "id": "e0fef5795c89d9d8",
   "outputs": [],
   "execution_count": 1
  },
  {
   "metadata": {
    "ExecuteTime": {
     "end_time": "2025-01-15T21:19:44.498661Z",
     "start_time": "2025-01-15T21:19:44.473687Z"
    }
   },
   "cell_type": "code",
   "source": [
    "aid = MedAId(dataset_path='./data/binary/heart_failure_clinical_records_dataset.csv',\n",
    "             target_column='DEATH_EVENT',\n",
    "             metric=\"f1\",\n",
    "             search=\"random\",\n",
    "             path=\"\",\n",
    "             n_iter=10,\n",
    "             cv=3,\n",
    "             n_jobs=-1)"
   ],
   "id": "da8fcdf6de712851",
   "outputs": [],
   "execution_count": 6
  },
  {
   "metadata": {
    "ExecuteTime": {
     "end_time": "2025-01-15T21:19:56.151245Z",
     "start_time": "2025-01-15T21:19:45.295431Z"
    }
   },
   "cell_type": "code",
   "source": "aid.train()",
   "id": "8cc6500ae78740d2",
   "outputs": [
    {
     "name": "stderr",
     "output_type": "stream",
     "text": [
      "logistic progress: 100%|██████████| 10/10 [00:02<00:00,  4.44it/s]\n",
      "tree progress: 100%|██████████| 10/10 [00:00<00:00, 14.65it/s]\n",
      "random_forest progress: 100%|██████████| 10/10 [00:01<00:00,  5.34it/s]\n",
      "xgboost progress: 100%|██████████| 10/10 [00:00<00:00, 18.52it/s]\n",
      "lightgbm progress: 100%|██████████| 10/10 [00:02<00:00,  3.47it/s]\n"
     ]
    },
    {
     "data": {
      "text/plain": [
       "<Figure size 640x480 with 0 Axes>"
      ]
     },
     "metadata": {},
     "output_type": "display_data"
    },
    {
     "data": {
      "text/plain": [
       "<Figure size 640x480 with 0 Axes>"
      ]
     },
     "metadata": {},
     "output_type": "display_data"
    },
    {
     "data": {
      "text/plain": [
       "<Figure size 640x480 with 0 Axes>"
      ]
     },
     "metadata": {},
     "output_type": "display_data"
    },
    {
     "data": {
      "text/plain": [
       "<Figure size 640x480 with 0 Axes>"
      ]
     },
     "metadata": {},
     "output_type": "display_data"
    },
    {
     "data": {
      "text/plain": [
       "<Figure size 640x480 with 0 Axes>"
      ]
     },
     "metadata": {},
     "output_type": "display_data"
    },
    {
     "data": {
      "text/plain": [
       "<Figure size 640x480 with 0 Axes>"
      ]
     },
     "metadata": {},
     "output_type": "display_data"
    },
    {
     "data": {
      "text/plain": [
       "<Figure size 640x480 with 0 Axes>"
      ]
     },
     "metadata": {},
     "output_type": "display_data"
    },
    {
     "data": {
      "text/plain": [
       "<Figure size 640x480 with 0 Axes>"
      ]
     },
     "metadata": {},
     "output_type": "display_data"
    },
    {
     "data": {
      "text/plain": [
       "<Figure size 640x480 with 0 Axes>"
      ]
     },
     "metadata": {},
     "output_type": "display_data"
    },
    {
     "data": {
      "text/plain": [
       "<Figure size 640x480 with 0 Axes>"
      ]
     },
     "metadata": {},
     "output_type": "display_data"
    },
    {
     "data": {
      "text/plain": [
       "<Figure size 640x480 with 0 Axes>"
      ]
     },
     "metadata": {},
     "output_type": "display_data"
    },
    {
     "data": {
      "text/plain": [
       "<Figure size 640x480 with 0 Axes>"
      ]
     },
     "metadata": {},
     "output_type": "display_data"
    },
    {
     "data": {
      "text/plain": [
       "<Figure size 2000x2000 with 0 Axes>"
      ]
     },
     "metadata": {},
     "output_type": "display_data"
    },
    {
     "data": {
      "text/plain": [
       "<Figure size 640x480 with 0 Axes>"
      ]
     },
     "metadata": {},
     "output_type": "display_data"
    },
    {
     "data": {
      "text/plain": [
       "<Figure size 640x480 with 0 Axes>"
      ]
     },
     "metadata": {},
     "output_type": "display_data"
    },
    {
     "data": {
      "text/plain": [
       "<Figure size 640x480 with 0 Axes>"
      ]
     },
     "metadata": {},
     "output_type": "display_data"
    },
    {
     "data": {
      "text/plain": [
       "<Figure size 640x480 with 0 Axes>"
      ]
     },
     "metadata": {},
     "output_type": "display_data"
    },
    {
     "data": {
      "text/plain": [
       "<Figure size 640x480 with 0 Axes>"
      ]
     },
     "metadata": {},
     "output_type": "display_data"
    },
    {
     "data": {
      "text/plain": [
       "<Figure size 640x480 with 0 Axes>"
      ]
     },
     "metadata": {},
     "output_type": "display_data"
    },
    {
     "data": {
      "text/plain": [
       "<Figure size 640x480 with 0 Axes>"
      ]
     },
     "metadata": {},
     "output_type": "display_data"
    },
    {
     "data": {
      "text/plain": [
       "<Figure size 640x480 with 0 Axes>"
      ]
     },
     "metadata": {},
     "output_type": "display_data"
    },
    {
     "data": {
      "text/plain": [
       "<Figure size 640x480 with 0 Axes>"
      ]
     },
     "metadata": {},
     "output_type": "display_data"
    },
    {
     "data": {
      "text/plain": [
       "<Figure size 640x480 with 0 Axes>"
      ]
     },
     "metadata": {},
     "output_type": "display_data"
    },
    {
     "data": {
      "text/plain": [
       "<Figure size 640x480 with 0 Axes>"
      ]
     },
     "metadata": {},
     "output_type": "display_data"
    },
    {
     "data": {
      "text/plain": [
       "<Figure size 640x480 with 0 Axes>"
      ]
     },
     "metadata": {},
     "output_type": "display_data"
    },
    {
     "data": {
      "text/plain": [
       "<Figure size 640x480 with 0 Axes>"
      ]
     },
     "metadata": {},
     "output_type": "display_data"
    },
    {
     "data": {
      "text/plain": [
       "<Figure size 640x480 with 0 Axes>"
      ]
     },
     "metadata": {},
     "output_type": "display_data"
    },
    {
     "data": {
      "text/plain": [
       "<Figure size 640x480 with 0 Axes>"
      ]
     },
     "metadata": {},
     "output_type": "display_data"
    },
    {
     "data": {
      "text/plain": [
       "<Figure size 640x480 with 0 Axes>"
      ]
     },
     "metadata": {},
     "output_type": "display_data"
    },
    {
     "data": {
      "text/plain": [
       "<Figure size 640x480 with 0 Axes>"
      ]
     },
     "metadata": {},
     "output_type": "display_data"
    },
    {
     "data": {
      "text/plain": [
       "<Figure size 640x480 with 0 Axes>"
      ]
     },
     "metadata": {},
     "output_type": "display_data"
    },
    {
     "data": {
      "text/plain": [
       "<Figure size 640x480 with 0 Axes>"
      ]
     },
     "metadata": {},
     "output_type": "display_data"
    },
    {
     "data": {
      "text/plain": [
       "<Figure size 640x480 with 0 Axes>"
      ]
     },
     "metadata": {},
     "output_type": "display_data"
    },
    {
     "data": {
      "text/plain": [
       "<Figure size 640x480 with 0 Axes>"
      ]
     },
     "metadata": {},
     "output_type": "display_data"
    },
    {
     "data": {
      "text/plain": [
       "<Figure size 640x480 with 0 Axes>"
      ]
     },
     "metadata": {},
     "output_type": "display_data"
    }
   ],
   "execution_count": 7
  },
  {
   "metadata": {
    "ExecuteTime": {
     "end_time": "2025-01-15T21:20:00.440793Z",
     "start_time": "2025-01-15T21:20:00.411293Z"
    }
   },
   "cell_type": "code",
   "source": "aid.save()",
   "id": "f48d37cb3b691ae3",
   "outputs": [],
   "execution_count": 8
  },
  {
   "metadata": {
    "ExecuteTime": {
     "end_time": "2025-01-15T21:20:01.030437Z",
     "start_time": "2025-01-15T21:20:00.917173Z"
    }
   },
   "cell_type": "code",
   "source": "aid.report()",
   "id": "c57680593a096348",
   "outputs": [],
   "execution_count": 9
  },
  {
   "metadata": {
    "ExecuteTime": {
     "end_time": "2025-01-15T21:20:01.868965Z",
     "start_time": "2025-01-15T21:20:01.857039Z"
    }
   },
   "cell_type": "code",
   "source": "aid.models_ranking()",
   "id": "c5d59ea83be4de1d",
   "outputs": [
    {
     "data": {
      "text/plain": [
       "           model  best_score        f1  accuracy  precision    recall  \\\n",
       "3        xgboost    0.868132  0.868132  0.870200   0.867894  0.870200   \n",
       "0       logistic    0.862451  0.862451  0.865928   0.868114  0.865928   \n",
       "2  random_forest    0.861448  0.861448  0.861814   0.861182  0.861814   \n",
       "4       lightgbm    0.856025  0.856025  0.861709   0.859908  0.861709   \n",
       "1           tree    0.808686  0.808686  0.807542   0.811440  0.807542   \n",
       "\n",
       "   test_best_score   test_f1  test_accuracy  test_precision  test_recall  \n",
       "3         0.791209  0.791209       0.800000        0.815321     0.800000  \n",
       "0         0.725659  0.725659       0.750000        0.795139     0.750000  \n",
       "2         0.716667  0.716667       0.733333        0.748148     0.733333  \n",
       "4         0.741015  0.741015       0.750000        0.754630     0.750000  \n",
       "1         0.686813  0.686813       0.700000        0.701094     0.700000  "
      ],
      "text/html": [
       "<div>\n",
       "<style scoped>\n",
       "    .dataframe tbody tr th:only-of-type {\n",
       "        vertical-align: middle;\n",
       "    }\n",
       "\n",
       "    .dataframe tbody tr th {\n",
       "        vertical-align: top;\n",
       "    }\n",
       "\n",
       "    .dataframe thead th {\n",
       "        text-align: right;\n",
       "    }\n",
       "</style>\n",
       "<table border=\"1\" class=\"dataframe\">\n",
       "  <thead>\n",
       "    <tr style=\"text-align: right;\">\n",
       "      <th></th>\n",
       "      <th>model</th>\n",
       "      <th>best_score</th>\n",
       "      <th>f1</th>\n",
       "      <th>accuracy</th>\n",
       "      <th>precision</th>\n",
       "      <th>recall</th>\n",
       "      <th>test_best_score</th>\n",
       "      <th>test_f1</th>\n",
       "      <th>test_accuracy</th>\n",
       "      <th>test_precision</th>\n",
       "      <th>test_recall</th>\n",
       "    </tr>\n",
       "  </thead>\n",
       "  <tbody>\n",
       "    <tr>\n",
       "      <th>3</th>\n",
       "      <td>xgboost</td>\n",
       "      <td>0.868132</td>\n",
       "      <td>0.868132</td>\n",
       "      <td>0.870200</td>\n",
       "      <td>0.867894</td>\n",
       "      <td>0.870200</td>\n",
       "      <td>0.791209</td>\n",
       "      <td>0.791209</td>\n",
       "      <td>0.800000</td>\n",
       "      <td>0.815321</td>\n",
       "      <td>0.800000</td>\n",
       "    </tr>\n",
       "    <tr>\n",
       "      <th>0</th>\n",
       "      <td>logistic</td>\n",
       "      <td>0.862451</td>\n",
       "      <td>0.862451</td>\n",
       "      <td>0.865928</td>\n",
       "      <td>0.868114</td>\n",
       "      <td>0.865928</td>\n",
       "      <td>0.725659</td>\n",
       "      <td>0.725659</td>\n",
       "      <td>0.750000</td>\n",
       "      <td>0.795139</td>\n",
       "      <td>0.750000</td>\n",
       "    </tr>\n",
       "    <tr>\n",
       "      <th>2</th>\n",
       "      <td>random_forest</td>\n",
       "      <td>0.861448</td>\n",
       "      <td>0.861448</td>\n",
       "      <td>0.861814</td>\n",
       "      <td>0.861182</td>\n",
       "      <td>0.861814</td>\n",
       "      <td>0.716667</td>\n",
       "      <td>0.716667</td>\n",
       "      <td>0.733333</td>\n",
       "      <td>0.748148</td>\n",
       "      <td>0.733333</td>\n",
       "    </tr>\n",
       "    <tr>\n",
       "      <th>4</th>\n",
       "      <td>lightgbm</td>\n",
<<<<<<< HEAD
       "      <td>0.580344</td>\n",
       "      <td>0.580344</td>\n",
       "      <td>0.702954</td>\n",
       "      <td>0.494161</td>\n",
       "      <td>0.702954</td>\n",
       "      <td>0.429825</td>\n",
       "      <td>0.429825</td>\n",
       "      <td>0.583333</td>\n",
       "      <td>0.340278</td>\n",
       "      <td>0.583333</td>\n",
=======
       "      <td>0.856025</td>\n",
       "      <td>0.856025</td>\n",
       "      <td>0.861709</td>\n",
       "      <td>0.859908</td>\n",
       "      <td>0.861709</td>\n",
       "      <td>0.741015</td>\n",
       "      <td>0.741015</td>\n",
       "      <td>0.750000</td>\n",
       "      <td>0.754630</td>\n",
       "      <td>0.750000</td>\n",
       "    </tr>\n",
       "    <tr>\n",
       "      <th>1</th>\n",
       "      <td>tree</td>\n",
       "      <td>0.808686</td>\n",
       "      <td>0.808686</td>\n",
       "      <td>0.807542</td>\n",
       "      <td>0.811440</td>\n",
       "      <td>0.807542</td>\n",
       "      <td>0.686813</td>\n",
       "      <td>0.686813</td>\n",
       "      <td>0.700000</td>\n",
       "      <td>0.701094</td>\n",
       "      <td>0.700000</td>\n",
>>>>>>> 77544ac (notebook)
       "    </tr>\n",
       "  </tbody>\n",
       "</table>\n",
       "</div>"
      ]
     },
     "execution_count": 10,
     "metadata": {},
     "output_type": "execute_result"
    }
   ],
   "execution_count": 10
  },
  {
   "metadata": {
    "ExecuteTime": {
     "end_time": "2025-01-15T21:21:02.297245Z",
     "start_time": "2025-01-15T21:21:01.928097Z"
    }
   },
   "cell_type": "code",
   "source": "aid.predict_explain(model=aid.best_models[1])",
   "id": "5a751a8ddae3b67f",
   "outputs": [
    {
     "data": {
      "text/plain": [
       "<Figure size 800x630 with 2 Axes>"
      ],
      "image/png": "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"
     },
     "metadata": {},
     "output_type": "display_data"
    }
   ],
   "execution_count": 12
  },
  {
   "metadata": {},
   "cell_type": "code",
   "outputs": [],
   "execution_count": null,
   "source": "",
   "id": "6b1b3e3d50fa0c49"
  }
 ],
 "metadata": {
  "kernelspec": {
   "display_name": "Python 3",
   "language": "python",
   "name": "python3"
  },
  "language_info": {
   "codemirror_mode": {
    "name": "ipython",
    "version": 2
   },
   "file_extension": ".py",
   "mimetype": "text/x-python",
   "name": "python",
   "nbconvert_exporter": "python",
   "pygments_lexer": "ipython2",
   "version": "2.7.6"
  }
 },
 "nbformat": 4,
 "nbformat_minor": 5
}
