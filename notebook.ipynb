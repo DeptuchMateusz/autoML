{
 "cells": [
  {
   "cell_type": "markdown",
   "id": "891f858402018045",
   "metadata": {},
   "source": [
    "# MedAId \n",
    "## Paczka umożliwiająca przewidywanie Stanu Pacjentów za Pomocą Narzędzi Klasyfikacyjnych \n",
    "#### Autorzy: Zofia Kamińska, Mateusz Deptuch, Karolina Dunal\n",
    "### Specyfikacja Narzędzia\n",
    "Nasze narzędzie jest stworzone z myślą o lekarzach, aby wspomóc ich w procesie podejmowania decyzji medycznych. Głównym celem jest analiza tabelarycznych danych pacjentów, takich jak wiek, waga, poziom cholesterolu, itp., w celu przewidywania:\n",
    "- Czy pacjent ma daną chorobę (klasyfikacja binarna).\n",
    "- Poziomu zaawansowania choroby (klasyfikacja wieloklasowa).\n",
    "- Ryzyka zgonu pacjenta (klasyfikacja binarna).\n",
    "\n",
    "### Kluczowe Funkcjonalności\n",
    "- Obsługa zarówno klasyfikacji binarnej, jak i wieloklasowej.\n",
    "- Zautomatyzowane przetwarzanie danych: oczyszczanie, analiza wstępna i przygotowanie cech.\n",
    "- Interpretacja wyników modeli za pomocą narzędzi takich jak SHAP.\n",
    "- Porównanie wyników różnych modeli ML z różnymi metrykami (np. dokładność, ROC-AUC, czułość, specyficzność).\n",
    "\n",
    "### Grupa Docelowa\n",
    "Grupą docelową są lekarze i personel medyczny. Narzędzie jest przeznaczone dla użytkowników, którzy:\n",
    "- Chcą wykorzystać dane pacjentów w celu lepszego podejmowania decyzji medycznych.\n",
    "- Nie posiadają zaawansowanej wiedzy z zakresu programowania czy uczenia maszynowego.\n",
    "- Potrzebują intuicyjnych wizualizacji i interpretacji wyników modeli.\n",
    "\n"
   ]
  },
  {
   "cell_type": "markdown",
   "id": "2c5d3ad7be90ddd2",
   "metadata": {},
   "source": [
    "# Przegląd Istniejących Rozwiązań\n",
    "Poniżej przedstawiono istniejące narzędzia o podobnej funkcjonalności:\n",
    "\n",
    "### 1. Pharm-AutoML\n",
    "- **Opis**: Narzędzie skoncentrowane na analizie danych biomedycznych z użyciem AutoML. Umożliwia analizę genomu, farmakogenomiki i danych biomarkerów.\n",
    "- **Zalety**: Specjalizacja w biomedycynie, zintegrowane modele biomarkerowe.\n",
    "- **Ograniczenia**: Ograniczona aplikacja do tabelarycznych danych klinicznych.\n",
    "\n",
    "### 2. Cardea (MIT)\n",
    "- **Opis**: Platforma uczenia maszynowego skupiona na przewidywaniu wyników pacjentów na podstawie danych klinicznych, takich jak elektroniczne kartoteki zdrowotne (EHR).\n",
    "- **Zalety**: Doskonała integracja z EHR, zastosowanie zaawansowanych modeli.\n",
    "- **Ograniczenia**: Skupienie na EHR może utrudnić zastosowanie w prostych danych tabelarycznych.\n",
    "\n",
    "### 3. AutoPrognosis\n",
    "- **Opis**: AutoPrognosis to zaawansowana platforma AutoML, która automatycznie optymalizuje modele zdrowotne i przetwarza dane medyczne, oferując szeroki zakres analiz, w tym klasyfikację, regresję oraz analizę przeżycia. Umożliwia pełną personalizację procesów i wybór algorytmów.\n",
    "- **Zalety**: Oferuje zaawansowane możliwości i dużą elastyczność, wspiera różnorodne modele i dostarcza narzędzia interpretacyjne, co czyni go idealnym rozwiązaniem dla specjalistów z zaawansowanymi potrzebami.\n",
    "- **Ograniczenia**: Choć ma szerokie możliwości, jego obsługa jest bardziej skomplikowana i wymaga większej wiedzy technicznej, co może czasem być wyzwaniem w praktyce.\n",
    "\n",
    "### 4. MLJAR\n",
    "- **Opis**: Narzędzie AutoML obsługujące dane tabelaryczne w wielu dziedzinach, w tym medycynie.\n",
    "- **Zalety**: Uniwersalność, przyjazne raporty, intuicyjne w obsłudze.\n",
    "- **Ograniczenia**: Brak medycznej specjalizacji, co może wpłynąć na interpretowalność w kontekście klinicznym.\n",
    "\n",
    "### Porównanie z Naszym Narzędziem\n",
    "Nasze narzędzie jest unikalne dzięki prostocie obsługi, wymagając minimalnego kodowania, co sprawia, że jest idealne dla użytkowników bez zaawansowanej wiedzy technicznej, a także zoptymalizowane pod kątem medycznych danych tabelarycznych, co czyni je bardziej dostosowanym do analiz biomedycznych w porównaniu do bardziej ogólnych narzędzi W przeciwieństwie do MLJAR, nasze wyniki są dostosowane do potrzeb lekarzy. Różnimy się też od Cardea i Pharm-AutoML, które mają węższy zakres zastosowań. W porównaniu do AutoPrognosis, które oferuje więcej zaawansowanych funkcji i możliwości, nasze narzędzie jest prostsze w obsłudze i bardziej intuicyjne, co ułatwia jego wykorzystanie.\n"
   ]
  },
  {
   "cell_type": "markdown",
   "id": "dcd32d103b8c022b",
   "metadata": {},
   "source": [
    "## Architektura Narzędzia\n",
    "### Struktura folderów:\n",
    "- `data/` - dane wejściowe\n",
    "- `medaid/` - kod źródłowy narzędzia\n",
    "- `tests/` - testy jednostkowe\n",
    "\n",
    "## Przepływ Przetwarzania Danych:\n",
    "### Paczka MedAId składa się z trzech głównych komponentów:\n",
    "1. **Przetwarzanie Danych** (`preprocessing)/`: Wczytywanie danych, oczyszczanie, kodowanie zmiennych kategorycznych, podział na zbiór treningowy i testowy. **(można bardzije szczegółowo opisać)**\n",
    "\n",
    "2. **Modelowanie**(`training/`): Tworzenie modeli klasyfikacyjnych, trenowanie, ocena i porównanie modeli, zapisanie modeli do pliku. **(można bardzije szczegółowo opisać)**\n",
    "\n",
    "3. **Interpretacja Wyników**(`reporting/`): Tworzenie wizualizacji wyników modeli, generowanie raportu, analiza SHAP, porównanie metryk. \n",
    "\n",
    "\n"
   ]
  },
  {
   "metadata": {},
   "cell_type": "markdown",
   "source": [
    "### `training/`\n",
    "#### `medaid.py`:\n",
    "Moduł slużący do przeprowadzania treningu modeli i optymalizacji hipermarametrów.\n",
    "1. `__train(...)__`: tu dzieje się cały trening i optymalizacja hipermarametrów.\n",
    "2. `__search.py__`: definicje klas random i grid search, używanych przy trningu\n",
    "\n"
   ],
   "id": "320922a01c6350c3"
  },
  {
   "metadata": {},
   "cell_type": "markdown",
   "source": [
    "### `reporting/`\n",
    "#### `plots.py`:\n",
    "Moduł do generowania wizualizacji wspierających analizę wyników modeli zapisywane odpowiednio w folderach wewnątrz głownego folderu `medaid#`:\n",
    "1. **`distribution_plots(aid)`**: Tworzy histogramy i wykresy słupkowe dla zmiennych wejściowych.\n",
    "2. **`correlation_plot(aid)`**: Generuje macierz korelacji oraz wykresy zależności cech od celu.\n",
    "3. **`make_confusion_matrix(aid)`**: Tworzy macierze konfuzji na zbiorze testowym dla każdego modelu.\n",
    "4. **`shap_feature_importance_plot(aid)`**: Wizualizuje ważność cech na podstawie SHAP.\n",
    "5. **`generate_supertree_visualizations(medaid, output_dir)`**: Tworzy interaktywne wizualizacje SuperTree dla modeli.\n",
    "6. **`makeplots(aid)`**: Uruchamia wszystkie powyższe funkcje, generując komplet wizualizacji.\n",
    "\n",
    "#### `mainreporter.py`:\n",
    "Klasa `MainReporter` generuje raport w formacie HTML z wynikami analizy danych i modeli. Raport zawiera szczegóły na temat danych, preprocesingu, rozkładów cech, macierzy korelacji, wyników modeli oraz ich szczegółowej analizy. Wygenerowany raport znajduje się w folderze `reports/` wewnątrz folderu `medaid#`.\n",
    "\n",
    "1. **`__init__(self, aid, path)`**: Konstruktor inicjalizuje ścieżkę do folderu z wynikami oraz obiekt `aid` zawierający dane i modele.\n",
    "2. **`is_nan(value)`**: Funkcja pomocnicza do sprawdzania, czy wartość jest NaN.\n",
    "3. **`generate_report()`**: Generuje raport HTML, który zawiera:\n",
    "   - Podstawowe informacje o danych (liczba wierszy, kolumn, unikalne klasy celu).\n",
    "   - Podgląd danych (pierwsze wiersze DataFrame).\n",
    "   - Szczegóły preprocesingu z pliku CSV.\n",
    "   - Rozkłady cech na wykresach.\n",
    "   - Analizę korelacji cech z celem oraz pełną macierz korelacji.\n",
    "   - Szczegóły użytych modeli i ich wyników (m.in. Accuracy, Precision, Recall, F1).\n",
    "   - Szczegóły modeli (np. macierz konfuzji, ważność cech, wizualizacja drzewa).\n",
    "   - Wizualizację drzewa dla modeli `DecisionTree` i `RandomForest`.\n",
    "\n",
    "#### `predictexplain.py`:\n",
    "Klasa `PredictExplainer` generuje raport wyjaśniający prognozę modelu na podstawie danych wejściowych zapisywany w folderze `medaid#`.\n",
    "1. **`__init__(self, medaid, model)`**: Inicjalizuje klasę `PredictExplainer`, przypisując obiekt `medaid` oraz model, a także wczytuje szczegóły przetwarzania wstępnego z pliku CSV.\n",
    "2. **`preprocess_input_data(self, input_data)`**: Przetwarza dane wejściowe zgodnie z zapisanymi szczegółami przetwarzania, stosując kodowanie one-hot, etykietowanie, imputację i skalowanie na podstawie wcześniejszych ustawień.\n",
    "3. **`analyze_prediction(self, prediction, target_column, prediction_proba)`**: Analizuje przewidywaną wartość dla docelowej cechy, porównuje ją z rozkładem w zbiorze danych i generuje raport klasyfikacji z uwzględnieniem wykresu ważności cech (SHAP) w przypadku klasyfikacji.\n",
    "4. **`generate_html_report(self, df, input_data)`**: Korzystając z pozostałych funkcji eneruje raport HTML porównujący dane wejściowe z danymi w zbiorze, analizuje przewidywania i generuje wykresy interpretowalności modelu.\n",
    "5. **`generate_viz(self, input_data)`**: Generuje wizualizacje dla danych wejściowych przy użyciu SHAP (dla większości modeli) lub LIME (dla modeli opartych na drzewach decyzyjnych).\n",
    "6. **`generate_shap_viz(self, input_data)`**: Generuje wizualizacje SHAP, w tym wykres siły dla pojedynczej prognozy oraz wykres podsumowujący dla całego zbioru danych, zapisując je jako pliki.\n",
    "7. **`generate_lime_viz(self, input_data)`**: Generuje wizualizacje LIME dla danych wejściowych, zapisując wykres wyjaśnienia do pliku HTML.\n",
    "8. **`predict_target(input_data)`**: Przetwarza dane wejściowe, dokonuje predykcji za pomocą modelu, analizuje wynik i generuje wizualizacje SHAP/LIME w celu zwiększenia interpretowalności.\n",
    "9. **`classify_and_analyze_features(df, input_data)`**:  Klasyfikuje cechy na typy binarne, kategoryczne tekstowe, kategoryczne numeryczne i ciągłe numeryczne, a następnie dostarcza szczegółowe raporty HTML na podstawie ich charakterystyki.\n",
    "10. **`_analyze_binary(df, column, input_value)`**, **`_analyze_categorical_numbers(df, column, input_value)`**, **`_analyze_categorical_strings(df, column, input_value)`** oraz **`_analyze_numerical_continuous(df, column, input_value)`**: Generują treść HTML dla różnych typów cech (binarnych, kategorycznych numerycznych, kategorycznych tekstowych i ciągłych numerycznych), dostarczając szczegółowych informacji na temat wartości pacjenta, jej częstości w zbiorze danych oraz dodatkowych informacji statystycznych (takich jak porównania z średnią, medianą i odchyleniem standardowym dla cech ciągłych).\n",
    "\n",
    "\n",
    "\n",
    "\n"
   ],
   "id": "efa8ceb33807be3e"
  },
  {
   "cell_type": "markdown",
   "id": "abb463433139b2ee",
   "metadata": {},
   "source": [
    "## Opis obiektu klasy medaid\n",
    "Klasa będąca głównym obiektem narzędzia. Umożliwia ona wczytanie danych, przetworzenie ich, trenowanie modeli, zapisanie wyników oraz generowanie raportów.\n",
    "#### Metody:\n",
    "-  `__medaid()__` Konstruktor klasy MedAId, inicjalizuje obiekt z podanymi parametrami.\n",
    "    - dataset_path: ścieżka do pliku CSV z danymi.\n",
    "    - target_column: nazwa kolumny zawierającej zmienną celu.\n",
    "    - models: lista modeli do przetestowania (domyślnie [\"logistic\", \"tree\", \"random_forest\", \"xgboost\", \"lightgbm\"]).\n",
    "    - metric: metryka do optymalizacji (domyślnie F1, możliwe [ \"accuracy\", \"f1\", \"recall\", \"precision\"]).\n",
    "    - path: ścieżka do zapisu wyników.\n",
    "    - search: metoda optymalizacji hiperparametrów (domyślnie random).\n",
    "    - cv: liczba podziałów w walidacji krzyżowej (domyślnie 3).\n",
    "    - n_iter: liczba iteracji optymalizacji hiperparametrów (domyślnie 20).\n",
    "    - test_size: rozmiar zbioru testowego (domyślnie 0.2).\n",
    "    - n_jobs: liczba rdzeni procesora do użycia (domyślnie 1).\n",
    "- `train()` Funkcja trenująca modele na danych treningowych, zapisująca najlepsze modele oraz ich wyniki.\n",
    "- `save()` zapisuje modele do pliku medaid.pkl w folderze `medaid#/`. \n",
    "- `report()` wykonuję funkcję `generate_report()` z klasy `MainReporter` zwracającą raport w formacie HTML z wynikami analizy danych i modeli opisane w sekcji `reporting/`\n",
    "- `predict_explain(input_data, model)` generuje raport wyjaśniający prognozę modelu na podstawie danych wejściowych będących pojedynczym wierszem ramki danych (bez kolumny target).  Jeśli model lub dane wejściowe nie są podane, funkcja używa domyślnych wartości - pierwszego modelu z listy `best_models` oraz pierwszego wiersza z ramki danych."
   ]
  },
  {
   "cell_type": "markdown",
   "id": "eef000550ff85a24",
   "metadata": {},
   "source": "### Przykładowe Użycie\n"
  },
  {
   "metadata": {
    "ExecuteTime": {
     "end_time": "2025-01-16T09:50:18.225366Z",
     "start_time": "2025-01-16T09:50:09.462126Z"
    }
   },
   "cell_type": "code",
   "source": "from medaid.medaid import MedAId",
   "id": "e0fef5795c89d9d8",
   "outputs": [],
   "execution_count": 1
  },
  {
   "metadata": {
    "ExecuteTime": {
     "end_time": "2025-01-16T09:50:18.295825Z",
     "start_time": "2025-01-16T09:50:18.243420Z"
    }
   },
   "cell_type": "code",
   "source": [
    "aid = MedAId(dataset_path='./data/binary/heart_failure_clinical_records_dataset.csv',\n",
    "             target_column='DEATH_EVENT',\n",
    "             metric=\"f1\",\n",
    "             search=\"random\",\n",
    "             path=\"\",\n",
    "             n_iter=10,\n",
    "             cv=3,\n",
    "             n_jobs=-1)"
   ],
   "id": "da8fcdf6de712851",
   "outputs": [],
   "execution_count": 2
  },
  {
   "metadata": {
    "ExecuteTime": {
     "end_time": "2025-01-16T09:50:57.618335Z",
     "start_time": "2025-01-16T09:50:19.317061Z"
    }
   },
   "cell_type": "code",
   "source": "aid.train()",
   "id": "8cc6500ae78740d2",
   "outputs": [
    {
     "name": "stderr",
     "output_type": "stream",
     "text": [
      "logistic progress: 100%|██████████| 10/10 [00:16<00:00,  1.61s/it]\n",
      "tree progress: 100%|██████████| 10/10 [00:00<00:00, 12.84it/s]\n",
      "random_forest progress: 100%|██████████| 10/10 [00:07<00:00,  1.28it/s]\n",
      "xgboost progress: 100%|██████████| 10/10 [00:01<00:00,  7.92it/s]\n",
      "lightgbm progress: 100%|██████████| 10/10 [00:02<00:00,  3.66it/s]\n"
     ]
    },
    {
     "data": {
      "text/plain": [
       "<Figure size 640x480 with 0 Axes>"
      ]
     },
     "metadata": {},
     "output_type": "display_data"
    },
    {
     "data": {
      "text/plain": [
       "<Figure size 640x480 with 0 Axes>"
      ]
     },
     "metadata": {},
     "output_type": "display_data"
    },
    {
     "data": {
      "text/plain": [
       "<Figure size 640x480 with 0 Axes>"
      ]
     },
     "metadata": {},
     "output_type": "display_data"
    },
    {
     "data": {
      "text/plain": [
       "<Figure size 640x480 with 0 Axes>"
      ]
     },
     "metadata": {},
     "output_type": "display_data"
    },
    {
     "data": {
      "text/plain": [
       "<Figure size 640x480 with 0 Axes>"
      ]
     },
     "metadata": {},
     "output_type": "display_data"
    },
    {
     "data": {
      "text/plain": [
       "<Figure size 640x480 with 0 Axes>"
      ]
     },
     "metadata": {},
     "output_type": "display_data"
    },
    {
     "data": {
      "text/plain": [
       "<Figure size 640x480 with 0 Axes>"
      ]
     },
     "metadata": {},
     "output_type": "display_data"
    },
    {
     "data": {
      "text/plain": [
       "<Figure size 640x480 with 0 Axes>"
      ]
     },
     "metadata": {},
     "output_type": "display_data"
    },
    {
     "data": {
      "text/plain": [
       "<Figure size 640x480 with 0 Axes>"
      ]
     },
     "metadata": {},
     "output_type": "display_data"
    },
    {
     "data": {
      "text/plain": [
       "<Figure size 640x480 with 0 Axes>"
      ]
     },
     "metadata": {},
     "output_type": "display_data"
    },
    {
     "data": {
      "text/plain": [
       "<Figure size 640x480 with 0 Axes>"
      ]
     },
     "metadata": {},
     "output_type": "display_data"
    },
    {
     "data": {
      "text/plain": [
       "<Figure size 640x480 with 0 Axes>"
      ]
     },
     "metadata": {},
     "output_type": "display_data"
    },
    {
     "data": {
      "text/plain": [
       "<Figure size 2000x2000 with 0 Axes>"
      ]
     },
     "metadata": {},
     "output_type": "display_data"
    },
    {
     "data": {
      "text/plain": [
       "<Figure size 640x480 with 0 Axes>"
      ]
     },
     "metadata": {},
     "output_type": "display_data"
    },
    {
     "data": {
      "text/plain": [
       "<Figure size 640x480 with 0 Axes>"
      ]
     },
     "metadata": {},
     "output_type": "display_data"
    },
    {
     "data": {
      "text/plain": [
       "<Figure size 640x480 with 0 Axes>"
      ]
     },
     "metadata": {},
     "output_type": "display_data"
    },
    {
     "data": {
      "text/plain": [
       "<Figure size 640x480 with 0 Axes>"
      ]
     },
     "metadata": {},
     "output_type": "display_data"
    },
    {
     "data": {
      "text/plain": [
       "<Figure size 640x480 with 0 Axes>"
      ]
     },
     "metadata": {},
     "output_type": "display_data"
    },
    {
     "data": {
      "text/plain": [
       "<Figure size 640x480 with 0 Axes>"
      ]
     },
     "metadata": {},
     "output_type": "display_data"
    },
    {
     "data": {
      "text/plain": [
       "<Figure size 640x480 with 0 Axes>"
      ]
     },
     "metadata": {},
     "output_type": "display_data"
    },
    {
     "data": {
      "text/plain": [
       "<Figure size 640x480 with 0 Axes>"
      ]
     },
     "metadata": {},
     "output_type": "display_data"
    },
    {
     "data": {
      "text/plain": [
       "<Figure size 640x480 with 0 Axes>"
      ]
     },
     "metadata": {},
     "output_type": "display_data"
    },
    {
     "data": {
      "text/plain": [
       "<Figure size 640x480 with 0 Axes>"
      ]
     },
     "metadata": {},
     "output_type": "display_data"
    },
    {
     "data": {
      "text/plain": [
       "<Figure size 640x480 with 0 Axes>"
      ]
     },
     "metadata": {},
     "output_type": "display_data"
    },
    {
     "data": {
      "text/plain": [
       "<Figure size 640x480 with 0 Axes>"
      ]
     },
     "metadata": {},
     "output_type": "display_data"
    },
    {
     "data": {
      "text/plain": [
       "<Figure size 640x480 with 0 Axes>"
      ]
     },
     "metadata": {},
     "output_type": "display_data"
    },
    {
     "data": {
      "text/plain": [
       "<Figure size 640x480 with 0 Axes>"
      ]
     },
     "metadata": {},
     "output_type": "display_data"
    },
    {
     "data": {
      "text/plain": [
       "<Figure size 640x480 with 0 Axes>"
      ]
     },
     "metadata": {},
     "output_type": "display_data"
    },
    {
     "data": {
      "text/plain": [
       "<Figure size 640x480 with 0 Axes>"
      ]
     },
     "metadata": {},
     "output_type": "display_data"
    },
    {
     "data": {
      "text/plain": [
       "<Figure size 640x480 with 0 Axes>"
      ]
     },
     "metadata": {},
     "output_type": "display_data"
    },
    {
     "data": {
      "text/plain": [
       "<Figure size 640x480 with 0 Axes>"
      ]
     },
     "metadata": {},
     "output_type": "display_data"
    },
    {
     "data": {
      "text/plain": [
       "<Figure size 640x480 with 0 Axes>"
      ]
     },
     "metadata": {},
     "output_type": "display_data"
    },
    {
     "data": {
      "text/plain": [
       "<Figure size 640x480 with 0 Axes>"
      ]
     },
     "metadata": {},
     "output_type": "display_data"
    },
    {
     "data": {
      "text/plain": [
       "<Figure size 640x480 with 0 Axes>"
      ]
     },
     "metadata": {},
     "output_type": "display_data"
    },
    {
     "data": {
      "text/plain": [
       "<Figure size 640x480 with 0 Axes>"
      ]
     },
     "metadata": {},
     "output_type": "display_data"
    }
   ],
   "execution_count": 3
  },
  {
   "metadata": {
    "ExecuteTime": {
     "end_time": "2025-01-16T09:50:58.703134Z",
     "start_time": "2025-01-16T09:50:58.636140Z"
    }
   },
   "cell_type": "code",
   "source": "aid.save()",
   "id": "f48d37cb3b691ae3",
   "outputs": [],
   "execution_count": 4
  },
  {
   "metadata": {
    "ExecuteTime": {
     "end_time": "2025-01-16T09:50:59.032188Z",
     "start_time": "2025-01-16T09:50:58.758714Z"
    }
   },
   "cell_type": "code",
   "source": "aid.report()",
   "id": "c57680593a096348",
   "outputs": [],
   "execution_count": 5
  },
  {
   "metadata": {
    "ExecuteTime": {
     "end_time": "2025-01-16T09:50:59.131351Z",
     "start_time": "2025-01-16T09:50:59.083806Z"
    }
   },
   "cell_type": "code",
   "source": "aid.models_ranking()",
   "id": "c5d59ea83be4de1d",
   "outputs": [
    {
     "data": {
      "text/plain": [
       "           model  best_score        f1  accuracy  precision    recall  \\\n",
       "2  random_forest    0.878276  0.878276  0.878586   0.878072  0.878586   \n",
       "3        xgboost    0.863934  0.863934  0.866139   0.863734  0.866139   \n",
       "0       logistic    0.862540  0.862540  0.865876   0.866757  0.865876   \n",
       "1           tree    0.829364  0.829364  0.832437   0.829268  0.832437   \n",
       "4       lightgbm    0.580344  0.580344  0.702954   0.494161  0.702954   \n",
       "\n",
       "   test_best_score   test_f1  test_accuracy  test_precision  test_recall  \n",
       "2         0.731719  0.731719       0.750000        0.775621     0.750000  \n",
       "3         0.771895  0.771895       0.783333        0.802083     0.783333  \n",
       "0         0.725659  0.725659       0.750000        0.795139     0.750000  \n",
       "1         0.671952  0.671952       0.683333        0.680556     0.683333  \n",
       "4         0.429825  0.429825       0.583333        0.340278     0.583333  "
      ],
      "text/html": [
       "<div>\n",
       "<style scoped>\n",
       "    .dataframe tbody tr th:only-of-type {\n",
       "        vertical-align: middle;\n",
       "    }\n",
       "\n",
       "    .dataframe tbody tr th {\n",
       "        vertical-align: top;\n",
       "    }\n",
       "\n",
       "    .dataframe thead th {\n",
       "        text-align: right;\n",
       "    }\n",
       "</style>\n",
       "<table border=\"1\" class=\"dataframe\">\n",
       "  <thead>\n",
       "    <tr style=\"text-align: right;\">\n",
       "      <th></th>\n",
       "      <th>model</th>\n",
       "      <th>best_score</th>\n",
       "      <th>f1</th>\n",
       "      <th>accuracy</th>\n",
       "      <th>precision</th>\n",
       "      <th>recall</th>\n",
       "      <th>test_best_score</th>\n",
       "      <th>test_f1</th>\n",
       "      <th>test_accuracy</th>\n",
       "      <th>test_precision</th>\n",
       "      <th>test_recall</th>\n",
       "    </tr>\n",
       "  </thead>\n",
       "  <tbody>\n",
       "    <tr>\n",
       "      <th>2</th>\n",
       "      <td>random_forest</td>\n",
       "      <td>0.878276</td>\n",
       "      <td>0.878276</td>\n",
       "      <td>0.878586</td>\n",
       "      <td>0.878072</td>\n",
       "      <td>0.878586</td>\n",
       "      <td>0.731719</td>\n",
       "      <td>0.731719</td>\n",
       "      <td>0.750000</td>\n",
       "      <td>0.775621</td>\n",
       "      <td>0.750000</td>\n",
       "    </tr>\n",
       "    <tr>\n",
       "      <th>3</th>\n",
       "      <td>xgboost</td>\n",
       "      <td>0.863934</td>\n",
       "      <td>0.863934</td>\n",
       "      <td>0.866139</td>\n",
       "      <td>0.863734</td>\n",
       "      <td>0.866139</td>\n",
       "      <td>0.771895</td>\n",
       "      <td>0.771895</td>\n",
       "      <td>0.783333</td>\n",
       "      <td>0.802083</td>\n",
       "      <td>0.783333</td>\n",
       "    </tr>\n",
       "    <tr>\n",
       "      <th>0</th>\n",
       "      <td>logistic</td>\n",
       "      <td>0.862540</td>\n",
       "      <td>0.862540</td>\n",
       "      <td>0.865876</td>\n",
       "      <td>0.866757</td>\n",
       "      <td>0.865876</td>\n",
       "      <td>0.725659</td>\n",
       "      <td>0.725659</td>\n",
       "      <td>0.750000</td>\n",
       "      <td>0.795139</td>\n",
       "      <td>0.750000</td>\n",
       "    </tr>\n",
       "    <tr>\n",
       "      <th>1</th>\n",
       "      <td>tree</td>\n",
       "      <td>0.829364</td>\n",
       "      <td>0.829364</td>\n",
       "      <td>0.832437</td>\n",
       "      <td>0.829268</td>\n",
       "      <td>0.832437</td>\n",
       "      <td>0.671952</td>\n",
       "      <td>0.671952</td>\n",
       "      <td>0.683333</td>\n",
       "      <td>0.680556</td>\n",
       "      <td>0.683333</td>\n",
       "    </tr>\n",
       "    <tr>\n",
       "      <th>4</th>\n",
       "      <td>lightgbm</td>\n",
<<<<<<< HEAD
<<<<<<< HEAD
=======
>>>>>>> 9198a1d (report fixes)
       "      <td>0.580344</td>\n",
       "      <td>0.580344</td>\n",
       "      <td>0.702954</td>\n",
       "      <td>0.494161</td>\n",
       "      <td>0.702954</td>\n",
       "      <td>0.429825</td>\n",
       "      <td>0.429825</td>\n",
       "      <td>0.583333</td>\n",
       "      <td>0.340278</td>\n",
       "      <td>0.583333</td>\n",
<<<<<<< HEAD
=======
       "      <td>0.856025</td>\n",
       "      <td>0.856025</td>\n",
       "      <td>0.861709</td>\n",
       "      <td>0.859908</td>\n",
       "      <td>0.861709</td>\n",
       "      <td>0.741015</td>\n",
       "      <td>0.741015</td>\n",
       "      <td>0.750000</td>\n",
       "      <td>0.754630</td>\n",
       "      <td>0.750000</td>\n",
       "    </tr>\n",
       "    <tr>\n",
       "      <th>1</th>\n",
       "      <td>tree</td>\n",
       "      <td>0.808686</td>\n",
       "      <td>0.808686</td>\n",
       "      <td>0.807542</td>\n",
       "      <td>0.811440</td>\n",
       "      <td>0.807542</td>\n",
       "      <td>0.686813</td>\n",
       "      <td>0.686813</td>\n",
       "      <td>0.700000</td>\n",
       "      <td>0.701094</td>\n",
       "      <td>0.700000</td>\n",
>>>>>>> 77544ac (notebook)
=======
>>>>>>> 9198a1d (report fixes)
       "    </tr>\n",
       "  </tbody>\n",
       "</table>\n",
       "</div>"
      ]
     },
     "execution_count": 6,
     "metadata": {},
     "output_type": "execute_result"
    }
   ],
   "execution_count": 6
  },
  {
   "metadata": {
    "ExecuteTime": {
     "end_time": "2025-01-16T09:51:00.928741Z",
     "start_time": "2025-01-16T09:50:59.197529Z"
    }
   },
   "cell_type": "code",
   "source": "aid.predict_explain(model=aid.best_models[1])",
   "id": "5a751a8ddae3b67f",
   "outputs": [
    {
     "data": {
      "text/plain": [
       "<Figure size 800x630 with 2 Axes>"
      ],
      "image/png": "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"
     },
     "metadata": {},
     "output_type": "display_data"
    }
   ],
   "execution_count": 7
  },
  {
   "metadata": {
    "ExecuteTime": {
     "end_time": "2025-01-16T09:51:01.074592Z",
     "start_time": "2025-01-16T09:51:01.061455Z"
    }
   },
   "cell_type": "code",
   "source": "aid.path",
   "id": "6b1b3e3d50fa0c49",
   "outputs": [
    {
     "data": {
      "text/plain": [
       "'C:\\\\Users\\\\Zosia\\\\Desktop\\\\autoML/medaid5'"
      ]
     },
     "execution_count": 8,
     "metadata": {},
     "output_type": "execute_result"
    }
   ],
   "execution_count": 8
  }
 ],
 "metadata": {
  "kernelspec": {
   "display_name": "Python 3",
   "language": "python",
   "name": "python3"
  },
  "language_info": {
   "codemirror_mode": {
    "name": "ipython",
    "version": 2
   },
   "file_extension": ".py",
   "mimetype": "text/x-python",
   "name": "python",
   "nbconvert_exporter": "python",
   "pygments_lexer": "ipython2",
   "version": "2.7.6"
  }
 },
 "nbformat": 4,
 "nbformat_minor": 5
}
